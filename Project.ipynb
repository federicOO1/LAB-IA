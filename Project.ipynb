{
  "cells": [
    {
      "cell_type": "markdown",
      "metadata": {
        "id": "view-in-github",
        "colab_type": "text"
      },
      "source": [
        "<a href=\"https://colab.research.google.com/github/federicOO1/LAB-IA/blob/main/Project.ipynb\" target=\"_parent\"><img src=\"https://colab.research.google.com/assets/colab-badge.svg\" alt=\"Open In Colab\"/></a>"
      ]
    },
    {
      "cell_type": "markdown",
      "metadata": {
        "id": "xbxH_B8JnEI_"
      },
      "source": [
        "## import librerie\n"
      ]
    },
    {
      "cell_type": "code",
      "execution_count": 1,
      "metadata": {
        "id": "tA4JIva2nAKh"
      },
      "outputs": [],
      "source": [
        "import torch\n",
        "from torch.utils.data import Dataset, DataLoader, random_split\n",
        "from torchvision import datasets\n",
        "import matplotlib.pyplot as plt\n",
        "from torchvision import transforms\n",
        "import os\n",
        "import numpy as np\n",
        "import PIL\n",
        "import warnings\n",
        "from tqdm import tqdm\n",
        "warnings.filterwarnings('ignore')"
      ]
    },
    {
      "cell_type": "code",
      "execution_count": 2,
      "metadata": {
        "colab": {
          "base_uri": "https://localhost:8080/"
        },
        "id": "phyQbQVZ5-QG",
        "outputId": "fd365123-01f0-44d5-f1aa-a37afe8f67d1"
      },
      "outputs": [
        {
          "output_type": "stream",
          "name": "stdout",
          "text": [
            "Requirement already satisfied: rasterio in /usr/local/lib/python3.10/dist-packages (1.3.9)\n",
            "Requirement already satisfied: affine in /usr/local/lib/python3.10/dist-packages (from rasterio) (2.4.0)\n",
            "Requirement already satisfied: attrs in /usr/local/lib/python3.10/dist-packages (from rasterio) (23.1.0)\n",
            "Requirement already satisfied: certifi in /usr/local/lib/python3.10/dist-packages (from rasterio) (2023.7.22)\n",
            "Requirement already satisfied: click>=4.0 in /usr/local/lib/python3.10/dist-packages (from rasterio) (8.1.7)\n",
            "Requirement already satisfied: cligj>=0.5 in /usr/local/lib/python3.10/dist-packages (from rasterio) (0.7.2)\n",
            "Requirement already satisfied: numpy in /usr/local/lib/python3.10/dist-packages (from rasterio) (1.23.5)\n",
            "Requirement already satisfied: snuggs>=1.4.1 in /usr/local/lib/python3.10/dist-packages (from rasterio) (1.4.7)\n",
            "Requirement already satisfied: click-plugins in /usr/local/lib/python3.10/dist-packages (from rasterio) (1.1.1)\n",
            "Requirement already satisfied: setuptools in /usr/local/lib/python3.10/dist-packages (from rasterio) (67.7.2)\n",
            "Requirement already satisfied: pyparsing>=2.1.6 in /usr/local/lib/python3.10/dist-packages (from snuggs>=1.4.1->rasterio) (3.1.1)\n"
          ]
        }
      ],
      "source": [
        "!pip install rasterio\n",
        "import rasterio\n",
        "from rasterio.plot import reshape_as_image"
      ]
    },
    {
      "cell_type": "code",
      "execution_count": 3,
      "metadata": {
        "colab": {
          "base_uri": "https://localhost:8080/"
        },
        "id": "ewZSTSHInpM1",
        "outputId": "1ffd93c0-6fae-4956-a239-43b52998e188"
      },
      "outputs": [
        {
          "output_type": "stream",
          "name": "stdout",
          "text": [
            "Drive already mounted at /content/drive; to attempt to forcibly remount, call drive.mount(\"/content/drive\", force_remount=True).\n"
          ]
        }
      ],
      "source": [
        "from google.colab import drive\n",
        "drive.mount('/content/drive')"
      ]
    },
    {
      "cell_type": "code",
      "execution_count": 4,
      "metadata": {
        "id": "vU1WqPPcr2Hf"
      },
      "outputs": [],
      "source": [
        "os.chdir(\"/content/drive/MyDrive/PotsdamDataset\")"
      ]
    },
    {
      "cell_type": "code",
      "execution_count": 5,
      "metadata": {
        "id": "EXjC3h0tnQ_U"
      },
      "outputs": [],
      "source": [
        "class PotsdamDataset(Dataset):\n",
        "    def __init__(self, dataset_folder):\n",
        "        self.dataset_folder = dataset_folder\n",
        "        self.image_paths = []\n",
        "        self.world_file_paths = []\n",
        "        self.mask_paths = []\n",
        "\n",
        "        # Leggi i percorsi delle immagini, dei file .tfw e delle maschere\n",
        "        end_RGBIR_folder = os.listdir(dataset_folder)[0]\n",
        "        end_LABELS_folder = os.listdir(dataset_folder)[1]\n",
        "\n",
        "        RGBIR_folder = data_folder + '/' + end_RGBIR_folder\n",
        "        LABELS_folder = data_folder + '/' + end_LABELS_folder\n",
        "\n",
        "        for file_name in os.listdir(RGBIR_folder):\n",
        "            if file_name.endswith('.tif'):\n",
        "                image_path = os.path.join(RGBIR_folder, file_name)\n",
        "                world_file_path = os.path.join(RGBIR_folder, file_name.replace('.tif', '.tfw'))\n",
        "\n",
        "                if os.path.exists(world_file_path):\n",
        "                    self.image_paths.append(image_path)\n",
        "                    self.world_file_paths.append(world_file_path)\n",
        "\n",
        "\n",
        "        for label_name in os.listdir(LABELS_folder):\n",
        "            mask_path = os.path.join(LABELS_folder, label_name)\n",
        "\n",
        "            if os.path.exists(mask_path):\n",
        "              self.mask_paths.append(mask_path)\n",
        "        self.image_paths.sort()\n",
        "        self.world_file_paths.sort()\n",
        "        self.mask_paths.sort()\n",
        "\n",
        "    def __len__(self):\n",
        "        return len(self.image_paths)\n",
        "\n",
        "    def get_image_paths(self, indices):\n",
        "        return [self.image_paths[idx] for idx in indices]\n",
        "\n",
        "    def get_mask_paths(self, indices):\n",
        "        return [self.mask_paths[idx] for idx in indices]\n",
        "\n",
        "    def load_world_file(self, world_file_path):\n",
        "          lines = open(world_file_path).readlines()\n",
        "          try:\n",
        "              parameters = [float(line.strip()) for line in lines if line.strip()]\n",
        "              if len(parameters) == 6:\n",
        "                  return parameters\n",
        "              else:\n",
        "                  raise ValueError(\"Il file .tfw non contiene 6 parametri.\")\n",
        "          except Exception as e:\n",
        "              print(f\"Errore durante la lettura dei parametri di georeferenziazione: {str(e)}\")\n",
        "              return None\n",
        "\n",
        "    def convert_labels_to_tensor(self, rgb_label):\n",
        "      #print(\"Current rgb_label:\",rgb_label)\n",
        "      # Definisci i colori delle classi nella maschera RGB\n",
        "      colors_to_labels = {\n",
        "          (255, 255, 255): 0,  # Impervious surfaces -> Classe 0\n",
        "          (0, 0, 255): 1,  # Building -> Classe 1\n",
        "          (0, 255, 255): 2,  # Low vegetation -> Classe 2\n",
        "          (0, 255, 0): 3,  # Tree -> Classe 3\n",
        "          (255, 255, 0): 4,  # Car -> Classe 4\n",
        "          (255, 0, 0): 5  # Clutter/background -> Classe 5\n",
        "      }\n",
        "      color_image = np.array(rgb_label)\n",
        "\n",
        "      # Rappresenta color_array come un array (6, 3)\n",
        "      color_array = np.array(list(colors_to_labels.keys()),dtype=np.uint8)\n",
        "\n",
        "      # Reshape l'immagine per renderla compatibile con l'operazione di broadcasting\n",
        "      color_image_reshaped = color_image.reshape(-1, 3)\n",
        "\n",
        "      # Calcola le differenze tra i colori nella maschera RGB e i colori delle classi\n",
        "      color_diffs = np.sum(np.abs(color_image_reshaped[:, None, :] - color_array[None, :, :]), axis=-1)\n",
        "\n",
        "      # Trova l'indice del colore più vicino per ciascun pixel\n",
        "      closest_color_indices = np.argmin(color_diffs, axis=-1)\n",
        "\n",
        "      # Mappa gli indici di colore ai valori delle classi\n",
        "      class_label = np.where(np.min(color_diffs, axis=-1) == 0, closest_color_indices, -1)\n",
        "\n",
        "      # Reshape per tornare alle dimensioni dell'immagine originale\n",
        "      class_label = class_label.reshape(rgb_label.shape[1], rgb_label.shape[2])\n",
        "\n",
        "      # Crea il tensore delle etichette di classe\n",
        "      class_label_tensor = torch.tensor(class_label, dtype=torch.long)\n",
        "\n",
        "      return class_label_tensor\n",
        "\n",
        "    def __getitem__(self, idx):\n",
        "        image_path = self.image_paths[idx]\n",
        "        world_file_path = self.world_file_paths[idx]\n",
        "        mask_path = self.mask_paths[idx]\n",
        "\n",
        "        # Carica l'immagine TIFF utilizzando la libreria rasterio\n",
        "        image = rasterio.open(image_path).read()\n",
        "\n",
        "        # Carica i parametri di georeferenziazione dal file .tfw\n",
        "        world_params = self.load_world_file(world_file_path)\n",
        "\n",
        "        # Carica la maschera con rasterio\n",
        "        mask = rasterio.open(mask_path).read()\n",
        "\n",
        "        # Converti la maschera RGB nel formato appropriato per CrossEntropyLoss\n",
        "        label = self.convert_labels_to_tensor(mask)\n",
        "\n",
        "        # Restituisci l'immagine, la maschera e i parametri di georeferenziazione\n",
        "        return image, label, world_params\n"
      ]
    },
    {
      "cell_type": "code",
      "execution_count": 6,
      "metadata": {
        "id": "YNKK2DbeS0PI"
      },
      "outputs": [],
      "source": [
        "# Definisci il percorso della cartella contenente i dati .tif e .tfw\n",
        "data_folder = \"/content/drive/MyDrive/PotsdamDataset\"\n",
        "\n",
        "# Crea un'istanza del dataset\n",
        "dataset = PotsdamDataset(data_folder)\n",
        "\n",
        "size = len(dataset)\n",
        "train_size = int(0.7 * size)\n",
        "val_size = int(0.15 * size)\n",
        "test_size = int(size - train_size - val_size)\n",
        "\n",
        "train_dataset, val_dataset, test_dataset = random_split(dataset, [train_size, val_size, test_size])\n",
        "\n",
        "batch_size = 4\n",
        "\n",
        "train_loader = DataLoader(train_dataset, batch_size=batch_size, shuffle=True)\n",
        "val_loader = DataLoader(val_dataset, batch_size=batch_size, shuffle=False)\n",
        "test_loader = DataLoader(test_dataset, batch_size=batch_size, shuffle=False)"
      ]
    },
    {
      "cell_type": "code",
      "execution_count": 7,
      "metadata": {
        "id": "vNfhCmBOx6ys",
        "colab": {
          "base_uri": "https://localhost:8080/"
        },
        "outputId": "95499b0a-e2fa-474c-eefd-e8f87de37b91"
      },
      "outputs": [
        {
          "output_type": "stream",
          "name": "stderr",
          "text": [
            "\r  0%|          | 0/7 [00:00<?, ?it/s]WARNING:rasterio._env:CPLE_AppDefined in /content/drive/MyDrive/PotsdamDataset/4_Ortho_RGBIR/top_potsdam_5_13_RGBIR.tif: TIFFReadDirectory:Sum of Photometric type-related color channels and ExtraSamples doesn't match SamplesPerPixel. Defining non-color channels as ExtraSamples.\n",
            "WARNING:rasterio._env:CPLE_AppDefined in /content/drive/MyDrive/PotsdamDataset/4_Ortho_RGBIR/top_potsdam_4_12_RGBIR.tif: TIFFReadDirectory:Sum of Photometric type-related color channels and ExtraSamples doesn't match SamplesPerPixel. Defining non-color channels as ExtraSamples.\n",
            "WARNING:rasterio._env:CPLE_AppDefined in /content/drive/MyDrive/PotsdamDataset/4_Ortho_RGBIR/top_potsdam_2_12_RGBIR.tif: TIFFReadDirectory:Sum of Photometric type-related color channels and ExtraSamples doesn't match SamplesPerPixel. Defining non-color channels as ExtraSamples.\n",
            "WARNING:rasterio._env:CPLE_AppDefined in /content/drive/MyDrive/PotsdamDataset/4_Ortho_RGBIR/top_potsdam_6_8_RGBIR.tif: TIFFReadDirectory:Sum of Photometric type-related color channels and ExtraSamples doesn't match SamplesPerPixel. Defining non-color channels as ExtraSamples.\n",
            " 14%|█▍        | 1/7 [01:21<08:06, 81.07s/it]WARNING:rasterio._env:CPLE_AppDefined in /content/drive/MyDrive/PotsdamDataset/4_Ortho_RGBIR/top_potsdam_3_12_RGBIR.tif: TIFFReadDirectory:Sum of Photometric type-related color channels and ExtraSamples doesn't match SamplesPerPixel. Defining non-color channels as ExtraSamples.\n",
            "WARNING:rasterio._env:CPLE_AppDefined in /content/drive/MyDrive/PotsdamDataset/4_Ortho_RGBIR/top_potsdam_5_14_RGBIR.tif: TIFFReadDirectory:Sum of Photometric type-related color channels and ExtraSamples doesn't match SamplesPerPixel. Defining non-color channels as ExtraSamples.\n",
            "WARNING:rasterio._env:CPLE_AppDefined in /content/drive/MyDrive/PotsdamDataset/4_Ortho_RGBIR/top_potsdam_7_11_RGBIR.tif: TIFFReadDirectory:Sum of Photometric type-related color channels and ExtraSamples doesn't match SamplesPerPixel. Defining non-color channels as ExtraSamples.\n",
            "WARNING:rasterio._env:CPLE_AppDefined in /content/drive/MyDrive/PotsdamDataset/4_Ortho_RGBIR/top_potsdam_6_12_RGBIR.tif: TIFFReadDirectory:Sum of Photometric type-related color channels and ExtraSamples doesn't match SamplesPerPixel. Defining non-color channels as ExtraSamples.\n",
            " 29%|██▊       | 2/7 [02:30<06:11, 74.33s/it]WARNING:rasterio._env:CPLE_AppDefined in /content/drive/MyDrive/PotsdamDataset/4_Ortho_RGBIR/top_potsdam_5_10_RGBIR.tif: TIFFReadDirectory:Sum of Photometric type-related color channels and ExtraSamples doesn't match SamplesPerPixel. Defining non-color channels as ExtraSamples.\n",
            "WARNING:rasterio._env:CPLE_AppDefined in /content/drive/MyDrive/PotsdamDataset/4_Ortho_RGBIR/top_potsdam_6_13_RGBIR.tif: TIFFReadDirectory:Sum of Photometric type-related color channels and ExtraSamples doesn't match SamplesPerPixel. Defining non-color channels as ExtraSamples.\n",
            "WARNING:rasterio._env:CPLE_AppDefined in /content/drive/MyDrive/PotsdamDataset/4_Ortho_RGBIR/top_potsdam_2_10_RGBIR.tif: TIFFReadDirectory:Sum of Photometric type-related color channels and ExtraSamples doesn't match SamplesPerPixel. Defining non-color channels as ExtraSamples.\n",
            "WARNING:rasterio._env:CPLE_AppDefined in /content/drive/MyDrive/PotsdamDataset/4_Ortho_RGBIR/top_potsdam_3_14_RGBIR.tif: TIFFReadDirectory:Sum of Photometric type-related color channels and ExtraSamples doesn't match SamplesPerPixel. Defining non-color channels as ExtraSamples.\n",
            " 43%|████▎     | 3/7 [03:41<04:50, 72.57s/it]WARNING:rasterio._env:CPLE_AppDefined in /content/drive/MyDrive/PotsdamDataset/4_Ortho_RGBIR/top_potsdam_4_14_RGBIR.tif: TIFFReadDirectory:Sum of Photometric type-related color channels and ExtraSamples doesn't match SamplesPerPixel. Defining non-color channels as ExtraSamples.\n",
            "WARNING:rasterio._env:CPLE_AppDefined in /content/drive/MyDrive/PotsdamDataset/4_Ortho_RGBIR/top_potsdam_2_14_RGBIR.tif: TIFFReadDirectory:Sum of Photometric type-related color channels and ExtraSamples doesn't match SamplesPerPixel. Defining non-color channels as ExtraSamples.\n",
            "WARNING:rasterio._env:CPLE_AppDefined in /content/drive/MyDrive/PotsdamDataset/4_Ortho_RGBIR/top_potsdam_6_15_RGBIR.tif: TIFFReadDirectory:Sum of Photometric type-related color channels and ExtraSamples doesn't match SamplesPerPixel. Defining non-color channels as ExtraSamples.\n",
            "WARNING:rasterio._env:CPLE_AppDefined in /content/drive/MyDrive/PotsdamDataset/4_Ortho_RGBIR/top_potsdam_5_12_RGBIR.tif: TIFFReadDirectory:Sum of Photometric type-related color channels and ExtraSamples doesn't match SamplesPerPixel. Defining non-color channels as ExtraSamples.\n",
            " 57%|█████▋    | 4/7 [04:50<03:33, 71.11s/it]WARNING:rasterio._env:CPLE_AppDefined in /content/drive/MyDrive/PotsdamDataset/4_Ortho_RGBIR/top_potsdam_3_11_RGBIR.tif: TIFFReadDirectory:Sum of Photometric type-related color channels and ExtraSamples doesn't match SamplesPerPixel. Defining non-color channels as ExtraSamples.\n",
            "WARNING:rasterio._env:CPLE_AppDefined in /content/drive/MyDrive/PotsdamDataset/4_Ortho_RGBIR/top_potsdam_6_7_RGBIR.tif: TIFFReadDirectory:Sum of Photometric type-related color channels and ExtraSamples doesn't match SamplesPerPixel. Defining non-color channels as ExtraSamples.\n",
            "WARNING:rasterio._env:CPLE_AppDefined in /content/drive/MyDrive/PotsdamDataset/4_Ortho_RGBIR/top_potsdam_6_11_RGBIR.tif: TIFFReadDirectory:Sum of Photometric type-related color channels and ExtraSamples doesn't match SamplesPerPixel. Defining non-color channels as ExtraSamples.\n",
            "WARNING:rasterio._env:CPLE_AppDefined in /content/drive/MyDrive/PotsdamDataset/4_Ortho_RGBIR/top_potsdam_6_14_RGBIR.tif: TIFFReadDirectory:Sum of Photometric type-related color channels and ExtraSamples doesn't match SamplesPerPixel. Defining non-color channels as ExtraSamples.\n",
            " 71%|███████▏  | 5/7 [05:59<02:21, 70.61s/it]WARNING:rasterio._env:CPLE_AppDefined in /content/drive/MyDrive/PotsdamDataset/4_Ortho_RGBIR/top_potsdam_2_13_RGBIR.tif: TIFFReadDirectory:Sum of Photometric type-related color channels and ExtraSamples doesn't match SamplesPerPixel. Defining non-color channels as ExtraSamples.\n",
            "WARNING:rasterio._env:CPLE_AppDefined in /content/drive/MyDrive/PotsdamDataset/4_Ortho_RGBIR/top_potsdam_7_12_RGBIR.tif: TIFFReadDirectory:Sum of Photometric type-related color channels and ExtraSamples doesn't match SamplesPerPixel. Defining non-color channels as ExtraSamples.\n",
            "WARNING:rasterio._env:CPLE_AppDefined in /content/drive/MyDrive/PotsdamDataset/4_Ortho_RGBIR/top_potsdam_4_13_RGBIR.tif: TIFFReadDirectory:Sum of Photometric type-related color channels and ExtraSamples doesn't match SamplesPerPixel. Defining non-color channels as ExtraSamples.\n",
            "WARNING:rasterio._env:CPLE_AppDefined in /content/drive/MyDrive/PotsdamDataset/4_Ortho_RGBIR/top_potsdam_7_13_RGBIR.tif: TIFFReadDirectory:Sum of Photometric type-related color channels and ExtraSamples doesn't match SamplesPerPixel. Defining non-color channels as ExtraSamples.\n",
            " 86%|████████▌ | 6/7 [07:09<01:10, 70.27s/it]WARNING:rasterio._env:CPLE_AppDefined in /content/drive/MyDrive/PotsdamDataset/4_Ortho_RGBIR/top_potsdam_5_15_RGBIR.tif: TIFFReadDirectory:Sum of Photometric type-related color channels and ExtraSamples doesn't match SamplesPerPixel. Defining non-color channels as ExtraSamples.\n",
            "WARNING:rasterio._env:CPLE_AppDefined in /content/drive/MyDrive/PotsdamDataset/4_Ortho_RGBIR/top_potsdam_4_15_RGBIR.tif: TIFFReadDirectory:Sum of Photometric type-related color channels and ExtraSamples doesn't match SamplesPerPixel. Defining non-color channels as ExtraSamples.\n",
            "100%|██████████| 7/7 [07:42<00:00, 66.09s/it]"
          ]
        },
        {
          "output_type": "stream",
          "name": "stdout",
          "text": [
            "mean per channel: tensor([87.4118, 93.3483, 86.6678, 98.1915])\n",
            "std per channel: tensor([35.9870, 35.5850, 36.9591, 36.5149])\n"
          ]
        },
        {
          "output_type": "stream",
          "name": "stderr",
          "text": [
            "\n"
          ]
        }
      ],
      "source": [
        "##\n",
        "num_channels = 4  # RGBIR has 4 channels\n",
        "dtype = torch.float32  # Imposta il tipo di dato desiderato\n",
        "\n",
        "# placeholders\n",
        "psum = torch.zeros(num_channels, dtype=dtype)\n",
        "psum_sq = torch.zeros(num_channels, dtype=dtype)\n",
        "count = 0\n",
        "\n",
        "# loop through images\n",
        "for inputs, labels, georeference_info in tqdm(train_loader):\n",
        "    # Converti il tensore in tipo di dato a precisione maggiore\n",
        "    inputs = inputs.to(dtype)\n",
        "\n",
        "    psum += inputs.sum(axis = [0, 2, 3])\n",
        "    psum_sq += (inputs ** 2).sum(axis = [0, 2, 3])\n",
        "\n",
        "    # Conteggio dei pixel\n",
        "    count += inputs.size(0) * inputs.size(2) * inputs.size(3)\n",
        "\n",
        "total_mean = psum / count\n",
        "\n",
        "# Calcola la varianza per canale\n",
        "total_var = (psum_sq / count) - (total_mean ** 2)\n",
        "\n",
        "# Calcola la deviazione standard per canale\n",
        "total_std = torch.sqrt(total_var)\n",
        "# output\n",
        "print('mean per channel: ' + str(total_mean))\n",
        "print('std per channel: ' + str(total_std))\n"
      ]
    },
    {
      "cell_type": "code",
      "execution_count": 8,
      "metadata": {
        "id": "t1NmW-8RojEr"
      },
      "outputs": [],
      "source": [
        "normalize_transform = transforms.Normalize(mean=total_mean, std=total_std)\n",
        "\n",
        "# Funzione per convertire e normalizzare un'immagine\n",
        "def normalize_batch(batch):\n",
        "    images, labels, georeference_info = batch\n",
        "    images = normalize_transform(images)\n",
        "    return images, labels, georeference_info\n",
        "\n",
        "# Crea nuovi DataLoader con la normalizzazione in batch\n",
        "normalized_train_loader = DataLoader(train_dataset, batch_size=batch_size, shuffle=True, collate_fn=normalize_batch)\n",
        "normalized_val_loader = DataLoader(val_dataset, batch_size=batch_size, shuffle=False, collate_fn=normalize_batch)\n",
        "normalized_test_loader = DataLoader(test_dataset, batch_size=batch_size, shuffle=False, collate_fn=normalize_batch)"
      ]
    },
    {
      "cell_type": "code",
      "execution_count": null,
      "metadata": {
        "colab": {
          "base_uri": "https://localhost:8080/"
        },
        "id": "HJrIM9aPoUjs",
        "outputId": "23ba64e3-8c25-44ba-9928-9bc83fb9c6d4"
      },
      "outputs": [
        {
          "output_type": "stream",
          "name": "stderr",
          "text": [
            "WARNING:rasterio._env:CPLE_AppDefined in /content/drive/MyDrive/PotsdamDataset/4_Ortho_RGBIR/top_potsdam_3_12_RGBIR.tif: TIFFReadDirectory:Sum of Photometric type-related color channels and ExtraSamples doesn't match SamplesPerPixel. Defining non-color channels as ExtraSamples.\n",
            "WARNING:rasterio._env:CPLE_AppDefined in /content/drive/MyDrive/PotsdamDataset/4_Ortho_RGBIR/top_potsdam_5_14_RGBIR.tif: TIFFReadDirectory:Sum of Photometric type-related color channels and ExtraSamples doesn't match SamplesPerPixel. Defining non-color channels as ExtraSamples.\n",
            "WARNING:rasterio._env:CPLE_AppDefined in /content/drive/MyDrive/PotsdamDataset/4_Ortho_RGBIR/top_potsdam_6_13_RGBIR.tif: TIFFReadDirectory:Sum of Photometric type-related color channels and ExtraSamples doesn't match SamplesPerPixel. Defining non-color channels as ExtraSamples.\n"
          ]
        }
      ],
      "source": [
        "for img, _, _ in normalized_train_loader:\n",
        "    print(\"Shape:\", img.shape)\n",
        "    print(\"Data type:\", img.dtype)\n",
        "    print(\"Example values:\")\n",
        "    print(img[0, 0, :10, :10])  # Mostra i primi 10x10 valori del primo canale\n",
        "    break"
      ]
    }
  ],
  "metadata": {
    "colab": {
      "provenance": [],
      "authorship_tag": "ABX9TyNNtTDUeklnWiYZHVEgYRbb",
      "include_colab_link": true
    },
    "kernelspec": {
      "display_name": "Python 3",
      "name": "python3"
    },
    "language_info": {
      "name": "python"
    }
  },
  "nbformat": 4,
  "nbformat_minor": 0
}