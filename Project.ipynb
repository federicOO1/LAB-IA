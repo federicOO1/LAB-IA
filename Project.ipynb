{
  "nbformat": 4,
  "nbformat_minor": 0,
  "metadata": {
    "colab": {
      "provenance": [],
      "authorship_tag": "ABX9TyM1ugHCuHmb35cka47+yHEj",
      "include_colab_link": true
    },
    "kernelspec": {
      "name": "python3",
      "display_name": "Python 3"
    },
    "language_info": {
      "name": "python"
    }
  },
  "cells": [
    {
      "cell_type": "markdown",
      "metadata": {
        "id": "view-in-github",
        "colab_type": "text"
      },
      "source": [
        "<a href=\"https://colab.research.google.com/github/federicOO1/LAB-IA/blob/main/Project.ipynb\" target=\"_parent\"><img src=\"https://colab.research.google.com/assets/colab-badge.svg\" alt=\"Open In Colab\"/></a>"
      ]
    },
    {
      "cell_type": "markdown",
      "source": [
        "## import librerie\n"
      ],
      "metadata": {
        "id": "xbxH_B8JnEI_"
      }
    },
    {
      "cell_type": "code",
      "execution_count": 1,
      "metadata": {
        "id": "tA4JIva2nAKh"
      },
      "outputs": [],
      "source": [
        "import torch\n",
        "from torch.utils.data import Dataset, DataLoader\n",
        "from torchvision import datasets\n",
        "import matplotlib.pyplot as plt\n",
        "from torchvision import transforms\n",
        "from PIL import Image\n",
        "from tifffile import imread"
      ]
    },
    {
      "cell_type": "code",
      "source": [
        "from google.colab import drive\n",
        "drive.mount('/content/drive')"
      ],
      "metadata": {
        "colab": {
          "base_uri": "https://localhost:8080/"
        },
        "id": "ewZSTSHInpM1",
        "outputId": "a0c7060b-c6dc-41df-ad8d-e471169e9f20"
      },
      "execution_count": 33,
      "outputs": [
        {
          "output_type": "stream",
          "name": "stdout",
          "text": [
            "Drive already mounted at /content/drive; to attempt to forcibly remount, call drive.mount(\"/content/drive\", force_remount=True).\n"
          ]
        }
      ]
    },
    {
      "cell_type": "code",
      "source": [
        "import os\n",
        "os.chdir(\"/content/drive/MyDrive/4_Ortho_RGBIR\")"
      ],
      "metadata": {
        "id": "vU1WqPPcr2Hf"
      },
      "execution_count": 34,
      "outputs": []
    },
    {
      "cell_type": "code",
      "source": [
        "class PotsdamDataset(Dataset):\n",
        "    def __init__(self, data_folder, transform=None):\n",
        "        self.data_folder = data_folder\n",
        "        self.transform = transform\n",
        "        self.image_paths = []\n",
        "        self.world_file_paths = []\n",
        "\n",
        "        # Leggi i percorsi delle immagini e dei file .tfw\n",
        "        for file_name in os.listdir(data_folder):\n",
        "            if file_name.endswith('.tif'):\n",
        "                image_path = os.path.join(data_folder, file_name)\n",
        "                world_file_path = os.path.join(data_folder, file_name.replace('.tif', '.tfw'))\n",
        "                if os.path.exists(world_file_path):\n",
        "                    self.image_paths.append(image_path)\n",
        "                    self.world_file_paths.append(world_file_path)\n",
        "\n",
        "    def __len__(self):\n",
        "        return len(self.image_paths)\n",
        "\n",
        "    def __getitem__(self, idx):\n",
        "        image_path = self.image_paths[idx]\n",
        "        world_file_path = self.world_file_paths[idx]\n",
        "\n",
        "        # Leggi l'immagine e il file .tfw\n",
        "        image = imread(image_path)\n",
        "        world_params = self.load_world_file(world_file_path)\n",
        "\n",
        "        # Applica trasformazioni se definite\n",
        "        if self.transform:\n",
        "            image = self.transform(image)\n",
        "\n",
        "        return image, world_params\n",
        "\n",
        "    def load_world_file(world_file_path):\n",
        "      with open(world_file_path, 'r') as f:\n",
        "          lines = f.readlines()\n",
        "          print(lines)  # Stampare il contenuto del file .tfw per debug\n",
        "          try:\n",
        "              parameters = tuple(float(line.strip()) for line in lines if line.strip())\n",
        "              if len(parameters) == 6:\n",
        "                  return parameters\n",
        "              else:\n",
        "                  raise ValueError(\"Il file .tfw non contiene 6 parametri.\")\n",
        "          except Exception as e:\n",
        "              print(f\"Errore durante la lettura dei parametri di georeferenziazione: {str(e)}\")\n",
        "              return None\n",
        "\n"
      ],
      "metadata": {
        "id": "aNWFWaVstHcZ"
      },
      "execution_count": 27,
      "outputs": []
    },
    {
      "cell_type": "code",
      "source": [
        "from torch.utils.data import Dataset\n",
        "from tifffile import imread\n",
        "import os\n",
        "import torch\n",
        "import numpy as np\n",
        "\n",
        "\n",
        "class PotsdamDataset(Dataset):\n",
        "    def __init__(self, data_folder):\n",
        "        self.data_folder = data_folder\n",
        "        self.image_paths = []\n",
        "        self.world_file_paths = []\n",
        "        self.mask_paths = []\n",
        "\n",
        "        # Leggi i percorsi delle immagini, dei file .tfw e delle maschere\n",
        "        for file_name in os.listdir(data_folder):\n",
        "            if file_name.endswith('.tif'):\n",
        "                image_path = os.path.join(data_folder, file_name)\n",
        "                world_file_path = os.path.join(data_folder, file_name.replace('.tif', '.tfw'))\n",
        "                mask_path = os.path.join(data_folder, file_name.replace('.tif', '_mask.tif'))\n",
        "\n",
        "                if os.path.exists(world_file_path) and os.path.exists(mask_path):\n",
        "                    self.image_paths.append(image_path)\n",
        "                    self.world_file_paths.append(world_file_path)\n",
        "                    self.mask_paths.append(mask_path)\n",
        "\n",
        "    def __len__(self):\n",
        "        return len(self.image_paths)\n",
        "\n",
        "    def load_world_file(self, world_file_path):\n",
        "        with open(world_file_path, 'r') as f:\n",
        "          lines = f.readlines()\n",
        "          print(lines)  # Stampare il contenuto del file .tfw per debug\n",
        "          try:\n",
        "              parameters = tuple(float(line.strip()) for line in lines if line.strip())\n",
        "              if len(parameters) == 6:\n",
        "                  return parameters\n",
        "              else:\n",
        "                  raise ValueError(\"Il file .tfw non contiene 6 parametri.\")\n",
        "          except Exception as e:\n",
        "              print(f\"Errore durante la lettura dei parametri di georeferenziazione: {str(e)}\")\n",
        "              return None\n",
        "\n",
        "    def rgb_to_label(self, rgb_mask):\n",
        "      # Definisci i colori delle classi nella maschera RGB\n",
        "      colors_to_labels = {\n",
        "          (0, 0, 0): 0,  # Colore di sfondo -> Classe 0\n",
        "          (255, 0, 0): 1,  # Colore rosso -> Classe 1\n",
        "          (0, 255, 0): 2,  # Colore verde -> Classe 2\n",
        "          (0, 0, 255): 3  # Colore blu -> Classe 3\n",
        "          # Aggiungi altri colori e classi se necessario\n",
        "      }\n",
        "\n",
        "      # Inizializza un'immagine di etichette con valori di sfondo (0)\n",
        "      label_mask = np.zeros(rgb_mask.shape[:2], dtype=np.uint8)\n",
        "\n",
        "      # Converte ciascun pixel nella maschera RGB nel corrispondente indice di classe\n",
        "      for color, label in colors_to_labels.items():\n",
        "          mask = np.all(rgb_mask == np.array(color), axis=-1)\n",
        "          label_mask[mask] = label\n",
        "\n",
        "      # Converte l'array di etichette in un tensore PyTorch con tipo LongTensor\n",
        "      label_mask_tensor = torch.from_numpy(label_mask).long()\n",
        "\n",
        "      return label_mask_tensor\n",
        "\n",
        "    def __getitem__(self, idx):\n",
        "        image_path = self.image_paths[idx]\n",
        "        world_file_path = self.world_file_paths[idx]\n",
        "        mask_path = self.mask_paths[idx]\n",
        "\n",
        "        # Carica l'immagine TIFF utilizzando Tifffile\n",
        "        image = imread(image_path)\n",
        "\n",
        "        # Carica i parametri di georeferenziazione dal file .tfw\n",
        "        world_params = self.load_world_file(world_file_path)\n",
        "\n",
        "        # Carica la maschera TIFF\n",
        "        mask = imread(mask_path)\n",
        "\n",
        "        # Converti la maschera RGB nel formato appropriato per CrossEntropyLoss\n",
        "        label = self.rgb_to_label(mask)\n",
        "\n",
        "        # Restituisci l'immagine, la maschera e i parametri di georeferenziazione\n",
        "        return image, label, world_params\n"
      ],
      "metadata": {
        "id": "EXjC3h0tnQ_U"
      },
      "execution_count": 45,
      "outputs": []
    },
    {
      "cell_type": "code",
      "source": [
        "# Definisci il percorso della cartella contenente i dati .tif e .tfw\n",
        "data_folder = '/content/drive/My Drive/4_Ortho_RGBIR'\n",
        "\n",
        "# Crea un'istanza del dataset\n",
        "dataset = PotsdamDataset(data_folder)\n",
        "\n",
        "dataset.mask_paths"
      ],
      "metadata": {
        "colab": {
          "base_uri": "https://localhost:8080/"
        },
        "id": "UlnkmcIKQ6Q9",
        "outputId": "3ee0833d-b81e-4a4f-80c9-1c3f0f01f67b"
      },
      "execution_count": 49,
      "outputs": [
        {
          "output_type": "execute_result",
          "data": {
            "text/plain": [
              "[]"
            ]
          },
          "metadata": {},
          "execution_count": 49
        }
      ]
    },
    {
      "cell_type": "code",
      "source": [
        "\n",
        "\n",
        "# Crea un DataLoader\n",
        "batch_size = 4\n",
        "dataloader = DataLoader(dataset, batch_size=batch_size, shuffle=True)\n",
        "\n",
        "\n",
        "\n"
      ],
      "metadata": {
        "id": "vNfhCmBOx6ys"
      },
      "execution_count": 39,
      "outputs": []
    },
    {
      "cell_type": "code",
      "source": [
        "from PIL import Image\n",
        "\n",
        "# Prova a caricare un'immagine singola\n",
        "image_path = '/content/drive/My Drive/4_Ortho_RGBIR/top_potsdam_7_12_RGBIR.tif'\n",
        "try:\n",
        "    image = Image.open(image_path)\n",
        "    print(\"Immagine caricata con successo!\")\n",
        "except Exception as e:\n",
        "    print(f\"Errore nel caricare l'immagine: {e}\")\n"
      ],
      "metadata": {
        "colab": {
          "base_uri": "https://localhost:8080/"
        },
        "id": "01lU8onDJwMU",
        "outputId": "0bfd56d3-a3f1-4c5d-d781-1fb58fff6d67"
      },
      "execution_count": 10,
      "outputs": [
        {
          "output_type": "stream",
          "name": "stdout",
          "text": [
            "Errore nel caricare l'immagine: cannot identify image file '/content/drive/My Drive/4_Ortho_RGBIR/top_potsdam_7_12_RGBIR.tif'\n"
          ]
        }
      ]
    },
    {
      "cell_type": "code",
      "source": [
        "\n",
        "\n",
        "\n",
        "# Lista di percorsi di immagini nel tuo dataset\n",
        "image_paths = ['path/to/image1.tif', 'path/to/image2.tif', 'path/to/image3.tif']\n",
        "\n",
        "# Numero di righe e colonne nella griglia\n",
        "num_rows = 1\n",
        "num_cols = len(image_paths)\n",
        "\n",
        "# Crea una griglia di immagini\n",
        "fig, axes = plt.subplots(num_rows, num_cols, figsize=(15, 5))\n",
        "\n",
        "for i, image_path in enumerate(image_paths):\n",
        "    image = Image.open(image_path)\n",
        "    axes[i].imshow(image)\n",
        "    axes[i].set_title(f'Immagine {i+1}')\n",
        "    axes[i].axis('off')\n",
        "\n",
        "plt.tight_layout()\n",
        "plt.show()\n"
      ],
      "metadata": {
        "id": "jrFU2aVvQfK-"
      },
      "execution_count": null,
      "outputs": []
    }
  ]
}