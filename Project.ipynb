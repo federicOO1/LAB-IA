{
  "nbformat": 4,
  "nbformat_minor": 0,
  "metadata": {
    "colab": {
      "provenance": [],
      "authorship_tag": "ABX9TyMFMxGnMDbWYqrEDEYVIc3K",
      "include_colab_link": true
    },
    "kernelspec": {
      "name": "python3",
      "display_name": "Python 3"
    },
    "language_info": {
      "name": "python"
    }
  },
  "cells": [
    {
      "cell_type": "markdown",
      "metadata": {
        "id": "view-in-github",
        "colab_type": "text"
      },
      "source": [
        "<a href=\"https://colab.research.google.com/github/federicOO1/LAB-IA/blob/main/Project.ipynb\" target=\"_parent\"><img src=\"https://colab.research.google.com/assets/colab-badge.svg\" alt=\"Open In Colab\"/></a>"
      ]
    },
    {
      "cell_type": "markdown",
      "source": [
        "## import librerie\n"
      ],
      "metadata": {
        "id": "xbxH_B8JnEI_"
      }
    },
    {
      "cell_type": "code",
      "execution_count": 1,
      "metadata": {
        "id": "tA4JIva2nAKh"
      },
      "outputs": [],
      "source": [
        "import torch\n",
        "from torch.utils.data import Dataset, DataLoader\n",
        "from torchvision import datasets\n",
        "import matplotlib.pyplot as plt\n",
        "from torchvision import transforms\n",
        "import os\n",
        "import numpy as np\n",
        "import PIL"
      ]
    },
    {
      "cell_type": "code",
      "source": [
        "!pip install rasterio\n",
        "import rasterio\n",
        "from rasterio.plot import reshape_as_image"
      ],
      "metadata": {
        "colab": {
          "base_uri": "https://localhost:8080/"
        },
        "id": "phyQbQVZ5-QG",
        "outputId": "053b878a-bc87-4026-de40-3aab040714f7"
      },
      "execution_count": 2,
      "outputs": [
        {
          "output_type": "stream",
          "name": "stdout",
          "text": [
            "Collecting rasterio\n",
            "  Downloading rasterio-1.3.9-cp310-cp310-manylinux2014_x86_64.whl (20.6 MB)\n",
            "\u001b[2K     \u001b[90m━━━━━━━━━━━━━━━━━━━━━━━━━━━━━━━━━━━━━━━━\u001b[0m \u001b[32m20.6/20.6 MB\u001b[0m \u001b[31m36.5 MB/s\u001b[0m eta \u001b[36m0:00:00\u001b[0m\n",
            "\u001b[?25hCollecting affine (from rasterio)\n",
            "  Downloading affine-2.4.0-py3-none-any.whl (15 kB)\n",
            "Requirement already satisfied: attrs in /usr/local/lib/python3.10/dist-packages (from rasterio) (23.1.0)\n",
            "Requirement already satisfied: certifi in /usr/local/lib/python3.10/dist-packages (from rasterio) (2023.7.22)\n",
            "Requirement already satisfied: click>=4.0 in /usr/local/lib/python3.10/dist-packages (from rasterio) (8.1.7)\n",
            "Requirement already satisfied: cligj>=0.5 in /usr/local/lib/python3.10/dist-packages (from rasterio) (0.7.2)\n",
            "Requirement already satisfied: numpy in /usr/local/lib/python3.10/dist-packages (from rasterio) (1.23.5)\n",
            "Collecting snuggs>=1.4.1 (from rasterio)\n",
            "  Downloading snuggs-1.4.7-py3-none-any.whl (5.4 kB)\n",
            "Requirement already satisfied: click-plugins in /usr/local/lib/python3.10/dist-packages (from rasterio) (1.1.1)\n",
            "Requirement already satisfied: setuptools in /usr/local/lib/python3.10/dist-packages (from rasterio) (67.7.2)\n",
            "Requirement already satisfied: pyparsing>=2.1.6 in /usr/local/lib/python3.10/dist-packages (from snuggs>=1.4.1->rasterio) (3.1.1)\n",
            "Installing collected packages: snuggs, affine, rasterio\n",
            "Successfully installed affine-2.4.0 rasterio-1.3.9 snuggs-1.4.7\n"
          ]
        }
      ]
    },
    {
      "cell_type": "code",
      "source": [
        "from google.colab import drive\n",
        "drive.mount('/content/drive')"
      ],
      "metadata": {
        "colab": {
          "base_uri": "https://localhost:8080/"
        },
        "id": "ewZSTSHInpM1",
        "outputId": "6e655fd4-97a7-4986-b242-8bf115dcfe92"
      },
      "execution_count": 3,
      "outputs": [
        {
          "output_type": "stream",
          "name": "stdout",
          "text": [
            "Mounted at /content/drive\n"
          ]
        }
      ]
    },
    {
      "cell_type": "code",
      "source": [
        "os.chdir(\"/content/drive/MyDrive/PotsdamDataset\")"
      ],
      "metadata": {
        "id": "vU1WqPPcr2Hf"
      },
      "execution_count": 4,
      "outputs": []
    },
    {
      "cell_type": "code",
      "source": [
        "class PotsdamDataset(Dataset):\n",
        "    def __init__(self, dataset_folder):\n",
        "        self.dataset_folder = dataset_folder\n",
        "        self.image_paths = []\n",
        "        self.world_file_paths = []\n",
        "        self.mask_paths = []\n",
        "\n",
        "        # Leggi i percorsi delle immagini, dei file .tfw e delle maschere\n",
        "        end_RGBIR_folder = os.listdir(dataset_folder)[0]\n",
        "        end_LABELS_folder = os.listdir(dataset_folder)[1]\n",
        "\n",
        "        RGBIR_folder = data_folder + '/' + end_RGBIR_folder\n",
        "        LABELS_folder = data_folder + '/' + end_LABELS_folder\n",
        "\n",
        "        for file_name in os.listdir(RGBIR_folder):\n",
        "            if file_name.endswith('.tif'):\n",
        "                image_path = os.path.join(RGBIR_folder, file_name)\n",
        "                world_file_path = os.path.join(RGBIR_folder, file_name.replace('.tif', '.tfw'))\n",
        "\n",
        "                if os.path.exists(world_file_path):\n",
        "                    self.image_paths.append(image_path)\n",
        "                    self.world_file_paths.append(world_file_path)\n",
        "\n",
        "\n",
        "        for label_name in os.listdir(LABELS_folder):\n",
        "            mask_path = os.path.join(LABELS_folder, label_name)\n",
        "\n",
        "            if os.path.exists(mask_path):\n",
        "              self.mask_paths.append(mask_path)\n",
        "\n",
        "    def __len__(self):\n",
        "        return len(self.image_paths)\n",
        "\n",
        "    def load_world_file(self, world_file_path):\n",
        "          lines = open(world_file_path).readlines()\n",
        "          try:\n",
        "              parameters = [float(line.strip()) for line in lines if line.strip()]\n",
        "              if len(parameters) == 6:\n",
        "                  return parameters\n",
        "              else:\n",
        "                  raise ValueError(\"Il file .tfw non contiene 6 parametri.\")\n",
        "          except Exception as e:\n",
        "              print(f\"Errore durante la lettura dei parametri di georeferenziazione: {str(e)}\")\n",
        "              return None\n",
        "\n",
        "    def convert_labels_to_tensor(self, rgb_label):\n",
        "      color_image = reshape_as_image(rgb_label)\n",
        "      # Definisci i colori delle classi nella maschera RGB\n",
        "      colors_to_labels = {\n",
        "          (255, 255, 255): 0,  # Impervious surfaces -> Classe 0\n",
        "          (0, 0, 255): 1,  # Building -> Classe 1\n",
        "          (0, 255, 255): 2,  # Low vegetation -> Classe 2\n",
        "          (0, 255, 0): 3,  # Tree -> Classe 3\n",
        "          (255, 255, 0): 4,  # Car -> Classe 4\n",
        "          (255, 0, 0): 5  # Clutter/background -> Classe 5\n",
        "      }\n",
        "\n",
        "      # Inizializza un'immagine di etichette con valori di sfondo (0)\n",
        "      height, width, _ = color_image.shape\n",
        "      class_label = np.zeros((height, width), dtype=np.int32)\n",
        "\n",
        "      for i in range(height):\n",
        "          for j in range(width):\n",
        "              pixel_color = tuple(color_image[i, j])\n",
        "              #print(pixel_color)\n",
        "              class_label[i, j] = colors_to_labels.get(pixel_color, -1)  # -1 per i colori non mappati\n",
        "              #print(class_label[i, j])\n",
        "\n",
        "\n",
        "      # Stampa l'array di classi risultante\n",
        "      class_label_tensor = torch.tensor(class_label, dtype=torch.long)\n",
        "\n",
        "      return class_label_tensor\n",
        "\n",
        "    def __getitem__(self, idx):\n",
        "        image_path = self.image_paths[idx]\n",
        "        world_file_path = self.world_file_paths[idx]\n",
        "        mask_path = self.mask_paths[idx]\n",
        "\n",
        "        # Carica l'immagine TIFF utilizzando la libreria rasterio\n",
        "        image = rasterio.open(image_path).read()\n",
        "\n",
        "        # Carica i parametri di georeferenziazione dal file .tfw\n",
        "        world_params = self.load_world_file(world_file_path)\n",
        "\n",
        "        # Carica la maschera con rasterio\n",
        "        mask = rasterio.open(mask_path).read()\n",
        "\n",
        "        # Converti la maschera RGB nel formato appropriato per CrossEntropyLoss\n",
        "        label = self.convert_labels_to_tensor(mask)\n",
        "\n",
        "        # Restituisci l'immagine, la maschera e i parametri di georeferenziazione\n",
        "        return image, label, world_params\n"
      ],
      "metadata": {
        "id": "EXjC3h0tnQ_U"
      },
      "execution_count": 5,
      "outputs": []
    },
    {
      "cell_type": "code",
      "source": [
        "# Definisci il percorso della cartella contenente i dati .tif e .tfw\n",
        "data_folder = \"/content/drive/MyDrive/PotsdamDataset\"\n",
        "\n",
        "# Crea un'istanza del dataset\n",
        "dataset = PotsdamDataset(data_folder)"
      ],
      "metadata": {
        "id": "YNKK2DbeS0PI"
      },
      "execution_count": 6,
      "outputs": []
    },
    {
      "cell_type": "code",
      "source": [],
      "metadata": {
        "id": "vNfhCmBOx6ys"
      },
      "execution_count": null,
      "outputs": []
    }
  ]
}