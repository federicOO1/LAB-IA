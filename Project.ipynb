{
  "cells": [
    {
      "cell_type": "markdown",
      "metadata": {
        "id": "view-in-github",
        "colab_type": "text"
      },
      "source": [
        "<a href=\"https://colab.research.google.com/github/federicOO1/LAB-IA/blob/main/Project.ipynb\" target=\"_parent\"><img src=\"https://colab.research.google.com/assets/colab-badge.svg\" alt=\"Open In Colab\"/></a>"
      ]
    },
    {
      "cell_type": "markdown",
      "metadata": {
        "id": "xbxH_B8JnEI_"
      },
      "source": [
        "## import librerie\n"
      ]
    },
    {
      "cell_type": "code",
      "execution_count": 1,
      "metadata": {
        "id": "tA4JIva2nAKh"
      },
      "outputs": [],
      "source": [
        "import torch\n",
        "from torch.utils.data import Dataset, DataLoader, random_split\n",
        "from torchvision import datasets\n",
        "import matplotlib.pyplot as plt\n",
        "from torchvision import transforms\n",
        "import torch.nn as nn\n",
        "import os\n",
        "import numpy as np\n",
        "import PIL\n",
        "import warnings\n",
        "from tqdm import tqdm\n",
        "import torch.optim as optim\n",
        "import albumentations\n",
        "warnings.filterwarnings('ignore')"
      ]
    },
    {
      "cell_type": "code",
      "execution_count": 2,
      "metadata": {
        "colab": {
          "base_uri": "https://localhost:8080/"
        },
        "id": "phyQbQVZ5-QG",
        "outputId": "eab454ec-93c3-4a99-d59b-7880ffa1966c"
      },
      "outputs": [
        {
          "output_type": "stream",
          "name": "stdout",
          "text": [
            "Requirement already satisfied: rasterio in /usr/local/lib/python3.10/dist-packages (1.3.9)\n",
            "Requirement already satisfied: affine in /usr/local/lib/python3.10/dist-packages (from rasterio) (2.4.0)\n",
            "Requirement already satisfied: attrs in /usr/local/lib/python3.10/dist-packages (from rasterio) (23.2.0)\n",
            "Requirement already satisfied: certifi in /usr/local/lib/python3.10/dist-packages (from rasterio) (2023.11.17)\n",
            "Requirement already satisfied: click>=4.0 in /usr/local/lib/python3.10/dist-packages (from rasterio) (8.1.7)\n",
            "Requirement already satisfied: cligj>=0.5 in /usr/local/lib/python3.10/dist-packages (from rasterio) (0.7.2)\n",
            "Requirement already satisfied: numpy in /usr/local/lib/python3.10/dist-packages (from rasterio) (1.23.5)\n",
            "Requirement already satisfied: snuggs>=1.4.1 in /usr/local/lib/python3.10/dist-packages (from rasterio) (1.4.7)\n",
            "Requirement already satisfied: click-plugins in /usr/local/lib/python3.10/dist-packages (from rasterio) (1.1.1)\n",
            "Requirement already satisfied: setuptools in /usr/local/lib/python3.10/dist-packages (from rasterio) (67.7.2)\n",
            "Requirement already satisfied: pyparsing>=2.1.6 in /usr/local/lib/python3.10/dist-packages (from snuggs>=1.4.1->rasterio) (3.1.1)\n"
          ]
        }
      ],
      "source": [
        "!pip install rasterio\n",
        "import rasterio\n",
        "from rasterio.plot import reshape_as_image"
      ]
    },
    {
      "cell_type": "code",
      "execution_count": 3,
      "metadata": {
        "id": "ewZSTSHInpM1",
        "colab": {
          "base_uri": "https://localhost:8080/"
        },
        "outputId": "981a02e4-a3cd-4199-b934-70f5eba7174a"
      },
      "outputs": [
        {
          "output_type": "stream",
          "name": "stdout",
          "text": [
            "Drive already mounted at /content/drive; to attempt to forcibly remount, call drive.mount(\"/content/drive\", force_remount=True).\n"
          ]
        }
      ],
      "source": [
        "from google.colab import drive\n",
        "drive.mount('/content/drive')"
      ]
    },
    {
      "cell_type": "code",
      "execution_count": 4,
      "metadata": {
        "id": "vU1WqPPcr2Hf"
      },
      "outputs": [],
      "source": [
        "os.chdir(\"/content/drive/MyDrive/PotsdamDataset\")"
      ]
    },
    {
      "cell_type": "code",
      "execution_count": 5,
      "metadata": {
        "id": "EXjC3h0tnQ_U"
      },
      "outputs": [],
      "source": [
        "class PotsdamDataset(Dataset):\n",
        "    def __init__(self, dataset_folder, transform=None):\n",
        "        self.dataset_folder = dataset_folder\n",
        "        self.image_paths = []\n",
        "        self.world_file_paths = []\n",
        "        self.mask_paths = []\n",
        "        self.transform = transform\n",
        "\n",
        "        # Leggi i percorsi delle immagini, dei file .tfw e delle maschere\n",
        "        end_RGBIR_folder = os.listdir(dataset_folder)[0]\n",
        "        end_LABELS_folder = os.listdir(dataset_folder)[1]\n",
        "\n",
        "        RGBIR_folder = data_folder + '/' + end_RGBIR_folder\n",
        "        LABELS_folder = data_folder + '/' + end_LABELS_folder\n",
        "\n",
        "        for file_name in os.listdir(RGBIR_folder):\n",
        "            if file_name.endswith('.tif'):\n",
        "                image_path = os.path.join(RGBIR_folder, file_name)\n",
        "                world_file_path = os.path.join(RGBIR_folder, file_name.replace('.tif', '.tfw'))\n",
        "\n",
        "                if os.path.exists(world_file_path):\n",
        "                    self.image_paths.append(image_path)\n",
        "                    self.world_file_paths.append(world_file_path)\n",
        "\n",
        "\n",
        "        for label_name in os.listdir(LABELS_folder):\n",
        "            mask_path = os.path.join(LABELS_folder, label_name)\n",
        "\n",
        "            if os.path.exists(mask_path):\n",
        "              self.mask_paths.append(mask_path)\n",
        "        self.image_paths.sort()\n",
        "        self.world_file_paths.sort()\n",
        "        self.mask_paths.sort()\n",
        "\n",
        "    def __len__(self):\n",
        "        return len(self.image_paths)\n",
        "\n",
        "    def get_image_paths(self, indices):\n",
        "        return [self.image_paths[idx] for idx in indices]\n",
        "\n",
        "    def get_mask_paths(self, indices):\n",
        "        return [self.mask_paths[idx] for idx in indices]\n",
        "\n",
        "    def load_world_file(self, world_file_path):\n",
        "          lines = open(world_file_path).readlines()\n",
        "          try:\n",
        "              parameters = [float(line.strip()) for line in lines if line.strip()]\n",
        "              if len(parameters) == 6:\n",
        "                  return parameters\n",
        "              else:\n",
        "                  raise ValueError(\"Il file .tfw non contiene 6 parametri.\")\n",
        "          except Exception as e:\n",
        "              print(f\"Errore durante la lettura dei parametri di georeferenziazione: {str(e)}\")\n",
        "              return None\n",
        "\n",
        "    def convert_labels_to_tensor(self, rgb_label):\n",
        "        # Definisci i colori delle classi nella maschera RGB\n",
        "        colors_to_labels = {\n",
        "            (255, 255, 255): 0,  # Impervious surfaces -> Classe 0\n",
        "            (0, 0, 255): 1,      # Building -> Classe 1\n",
        "            (0, 255, 255): 2,    # Low vegetation -> Classe 2\n",
        "            (0, 255, 0): 3,      # Tree -> Classe 3\n",
        "            (255, 255, 0): 4,    # Car -> Classe 4\n",
        "            (255, 0, 0): 5       # Clutter/background -> Classe 5\n",
        "        }\n",
        "\n",
        "        # Trasponi l'array per avere le dimensioni (6000, 6000, 3)\n",
        "        transposed_label = np.transpose(rgb_label, (1, 2, 0))\n",
        "\n",
        "        # Crea un array vuoto per le etichette di classe\n",
        "        class_label = np.zeros((6000, 6000), dtype=np.int64)\n",
        "\n",
        "        # Confronta ogni pixel con i valori nel dizionario colors_to_labels\n",
        "\n",
        "        for color, label in colors_to_labels.items():\n",
        "            mask = np.all(transposed_label == np.array(color).reshape(1, 1, 3), axis=-1)\n",
        "            class_label[mask] = label\n",
        "\n",
        "        # Crea il tensore delle etichette di classe\n",
        "        class_label_tensor = torch.tensor(class_label, dtype=torch.long)\n",
        "\n",
        "        return class_label_tensor\n",
        "\n",
        "    def __getitem__(self, idx):\n",
        "        image_path = self.image_paths[idx]\n",
        "        world_file_path = self.world_file_paths[idx]\n",
        "        mask_path = self.mask_paths[idx]\n",
        "\n",
        "        # Carica l'immagine TIFF utilizzando la libreria rasterio\n",
        "        image = rasterio.open(image_path).read()\n",
        "\n",
        "        # Carica i parametri di georeferenziazione dal file .tfw\n",
        "        world_params = self.load_world_file(world_file_path)\n",
        "\n",
        "        # Carica la maschera con rasterio\n",
        "        mask = rasterio.open(mask_path).read()\n",
        "\n",
        "        # Converti la maschera RGB nel formato appropriato per CrossEntropyLoss\n",
        "        label = self.convert_labels_to_tensor(mask)\n",
        "\n",
        "        image = torch.from_numpy(image)\n",
        "\n",
        "        # Estrai mean e std dalla lista di trasformazione, se presente\n",
        "        if self.transform and isinstance(self.transform, list) and len(self.transform) == 2:\n",
        "            mean, std = self.transform\n",
        "            # Applica la trasformazione di normalizzazione se sono presenti mean e std\n",
        "            image = self.normalize(image, mean, std)\n",
        "\n",
        "\n",
        "        # Restituisci l'immagine, la maschera e i parametri di georeferenziazione\n",
        "        return image, label, world_params\n",
        "\n",
        "    def normalize(self, image, mean=None, std=None):\n",
        "        if mean is not None and std is not None:\n",
        "            # Converte l'immagine in float\n",
        "            image = image.float()\n",
        "\n",
        "            # Normalizza per canale\n",
        "            for c in range(image.size(0)):\n",
        "                image[c] = (image[c] - mean[c]) / std[c]\n",
        "\n",
        "        return image"
      ]
    },
    {
      "cell_type": "code",
      "execution_count": 6,
      "metadata": {
        "id": "YNKK2DbeS0PI"
      },
      "outputs": [],
      "source": [
        "# Definisci il percorso della cartella contenente i dati .tif e .tfw\n",
        "data_folder = \"/content/drive/MyDrive/PotsdamDataset\"\n",
        "\n",
        "# Crea un'istanza del dataset\n",
        "dataset = PotsdamDataset(data_folder)\n",
        "\n",
        "size = len(dataset)\n",
        "train_size = int(0.7 * size)\n",
        "val_size = int(0.15 * size)\n",
        "test_size = int(size - train_size - val_size)\n",
        "\n",
        "train_dataset, val_dataset, test_dataset = random_split(dataset, [train_size, val_size, test_size])\n",
        "\n",
        "batch_size = 2\n",
        "\n",
        "train_loader = DataLoader(train_dataset, batch_size=batch_size, shuffle=True)\n",
        "val_loader = DataLoader(val_dataset, batch_size=batch_size, shuffle=False)\n",
        "test_loader = DataLoader(test_dataset, batch_size=batch_size, shuffle=False)"
      ]
    },
    {
      "cell_type": "code",
      "execution_count": 7,
      "metadata": {
        "id": "vNfhCmBOx6ys",
        "colab": {
          "base_uri": "https://localhost:8080/"
        },
        "outputId": "cf0c24bc-6814-4f89-b8b1-be13af9cbb2c"
      },
      "outputs": [
        {
          "output_type": "stream",
          "name": "stderr",
          "text": [
            "\r  0%|          | 0/13 [00:00<?, ?it/s]WARNING:rasterio._env:CPLE_AppDefined in /content/drive/MyDrive/PotsdamDataset/4_Ortho_RGBIR/top_potsdam_5_10_RGBIR.tif: TIFFReadDirectory:Sum of Photometric type-related color channels and ExtraSamples doesn't match SamplesPerPixel. Defining non-color channels as ExtraSamples.\n",
            "WARNING:rasterio._env:CPLE_AppDefined in /content/drive/MyDrive/PotsdamDataset/4_Ortho_RGBIR/top_potsdam_7_10_RGBIR.tif: TIFFReadDirectory:Sum of Photometric type-related color channels and ExtraSamples doesn't match SamplesPerPixel. Defining non-color channels as ExtraSamples.\n",
            "  8%|▊         | 1/13 [00:13<02:42, 13.54s/it]WARNING:rasterio._env:CPLE_AppDefined in /content/drive/MyDrive/PotsdamDataset/4_Ortho_RGBIR/top_potsdam_3_12_RGBIR.tif: TIFFReadDirectory:Sum of Photometric type-related color channels and ExtraSamples doesn't match SamplesPerPixel. Defining non-color channels as ExtraSamples.\n",
            "WARNING:rasterio._env:CPLE_AppDefined in /content/drive/MyDrive/PotsdamDataset/4_Ortho_RGBIR/top_potsdam_7_11_RGBIR.tif: TIFFReadDirectory:Sum of Photometric type-related color channels and ExtraSamples doesn't match SamplesPerPixel. Defining non-color channels as ExtraSamples.\n",
            " 15%|█▌        | 2/13 [00:26<02:27, 13.44s/it]WARNING:rasterio._env:CPLE_AppDefined in /content/drive/MyDrive/PotsdamDataset/4_Ortho_RGBIR/top_potsdam_2_14_RGBIR.tif: TIFFReadDirectory:Sum of Photometric type-related color channels and ExtraSamples doesn't match SamplesPerPixel. Defining non-color channels as ExtraSamples.\n",
            "WARNING:rasterio._env:CPLE_AppDefined in /content/drive/MyDrive/PotsdamDataset/4_Ortho_RGBIR/top_potsdam_6_15_RGBIR.tif: TIFFReadDirectory:Sum of Photometric type-related color channels and ExtraSamples doesn't match SamplesPerPixel. Defining non-color channels as ExtraSamples.\n",
            " 23%|██▎       | 3/13 [00:35<01:54, 11.45s/it]WARNING:rasterio._env:CPLE_AppDefined in /content/drive/MyDrive/PotsdamDataset/4_Ortho_RGBIR/top_potsdam_7_8_RGBIR.tif: TIFFReadDirectory:Sum of Photometric type-related color channels and ExtraSamples doesn't match SamplesPerPixel. Defining non-color channels as ExtraSamples.\n",
            "WARNING:rasterio._env:CPLE_AppDefined in /content/drive/MyDrive/PotsdamDataset/4_Ortho_RGBIR/top_potsdam_6_13_RGBIR.tif: TIFFReadDirectory:Sum of Photometric type-related color channels and ExtraSamples doesn't match SamplesPerPixel. Defining non-color channels as ExtraSamples.\n",
            " 31%|███       | 4/13 [00:47<01:41, 11.30s/it]WARNING:rasterio._env:CPLE_AppDefined in /content/drive/MyDrive/PotsdamDataset/4_Ortho_RGBIR/top_potsdam_4_14_RGBIR.tif: TIFFReadDirectory:Sum of Photometric type-related color channels and ExtraSamples doesn't match SamplesPerPixel. Defining non-color channels as ExtraSamples.\n",
            "WARNING:rasterio._env:CPLE_AppDefined in /content/drive/MyDrive/PotsdamDataset/4_Ortho_RGBIR/top_potsdam_6_10_RGBIR.tif: TIFFReadDirectory:Sum of Photometric type-related color channels and ExtraSamples doesn't match SamplesPerPixel. Defining non-color channels as ExtraSamples.\n",
            " 38%|███▊      | 5/13 [00:56<01:23, 10.45s/it]WARNING:rasterio._env:CPLE_AppDefined in /content/drive/MyDrive/PotsdamDataset/4_Ortho_RGBIR/top_potsdam_2_13_RGBIR.tif: TIFFReadDirectory:Sum of Photometric type-related color channels and ExtraSamples doesn't match SamplesPerPixel. Defining non-color channels as ExtraSamples.\n",
            "WARNING:rasterio._env:CPLE_AppDefined in /content/drive/MyDrive/PotsdamDataset/4_Ortho_RGBIR/top_potsdam_6_8_RGBIR.tif: TIFFReadDirectory:Sum of Photometric type-related color channels and ExtraSamples doesn't match SamplesPerPixel. Defining non-color channels as ExtraSamples.\n",
            " 46%|████▌     | 6/13 [01:08<01:18, 11.17s/it]WARNING:rasterio._env:CPLE_AppDefined in /content/drive/MyDrive/PotsdamDataset/4_Ortho_RGBIR/top_potsdam_4_10_RGBIR.tif: TIFFReadDirectory:Sum of Photometric type-related color channels and ExtraSamples doesn't match SamplesPerPixel. Defining non-color channels as ExtraSamples.\n",
            "WARNING:rasterio._env:CPLE_AppDefined in /content/drive/MyDrive/PotsdamDataset/4_Ortho_RGBIR/top_potsdam_4_12_RGBIR.tif: TIFFReadDirectory:Sum of Photometric type-related color channels and ExtraSamples doesn't match SamplesPerPixel. Defining non-color channels as ExtraSamples.\n",
            " 54%|█████▍    | 7/13 [01:21<01:11, 11.85s/it]WARNING:rasterio._env:CPLE_AppDefined in /content/drive/MyDrive/PotsdamDataset/4_Ortho_RGBIR/top_potsdam_6_11_RGBIR.tif: TIFFReadDirectory:Sum of Photometric type-related color channels and ExtraSamples doesn't match SamplesPerPixel. Defining non-color channels as ExtraSamples.\n",
            "WARNING:rasterio._env:CPLE_AppDefined in /content/drive/MyDrive/PotsdamDataset/4_Ortho_RGBIR/top_potsdam_3_13_RGBIR.tif: TIFFReadDirectory:Sum of Photometric type-related color channels and ExtraSamples doesn't match SamplesPerPixel. Defining non-color channels as ExtraSamples.\n",
            " 62%|██████▏   | 8/13 [01:31<00:55, 11.16s/it]WARNING:rasterio._env:CPLE_AppDefined in /content/drive/MyDrive/PotsdamDataset/4_Ortho_RGBIR/top_potsdam_5_13_RGBIR.tif: TIFFReadDirectory:Sum of Photometric type-related color channels and ExtraSamples doesn't match SamplesPerPixel. Defining non-color channels as ExtraSamples.\n",
            "WARNING:rasterio._env:CPLE_AppDefined in /content/drive/MyDrive/PotsdamDataset/4_Ortho_RGBIR/top_potsdam_6_7_RGBIR.tif: TIFFReadDirectory:Sum of Photometric type-related color channels and ExtraSamples doesn't match SamplesPerPixel. Defining non-color channels as ExtraSamples.\n",
            " 69%|██████▉   | 9/13 [01:41<00:43, 10.92s/it]WARNING:rasterio._env:CPLE_AppDefined in /content/drive/MyDrive/PotsdamDataset/4_Ortho_RGBIR/top_potsdam_5_12_RGBIR.tif: TIFFReadDirectory:Sum of Photometric type-related color channels and ExtraSamples doesn't match SamplesPerPixel. Defining non-color channels as ExtraSamples.\n",
            "WARNING:rasterio._env:CPLE_AppDefined in /content/drive/MyDrive/PotsdamDataset/4_Ortho_RGBIR/top_potsdam_7_9_RGBIR.tif: TIFFReadDirectory:Sum of Photometric type-related color channels and ExtraSamples doesn't match SamplesPerPixel. Defining non-color channels as ExtraSamples.\n",
            " 77%|███████▋  | 10/13 [01:50<00:30, 10.17s/it]WARNING:rasterio._env:CPLE_AppDefined in /content/drive/MyDrive/PotsdamDataset/4_Ortho_RGBIR/top_potsdam_3_14_RGBIR.tif: TIFFReadDirectory:Sum of Photometric type-related color channels and ExtraSamples doesn't match SamplesPerPixel. Defining non-color channels as ExtraSamples.\n",
            "WARNING:rasterio._env:CPLE_AppDefined in /content/drive/MyDrive/PotsdamDataset/4_Ortho_RGBIR/top_potsdam_7_13_RGBIR.tif: TIFFReadDirectory:Sum of Photometric type-related color channels and ExtraSamples doesn't match SamplesPerPixel. Defining non-color channels as ExtraSamples.\n",
            " 85%|████████▍ | 11/13 [02:02<00:21, 10.63s/it]WARNING:rasterio._env:CPLE_AppDefined in /content/drive/MyDrive/PotsdamDataset/4_Ortho_RGBIR/top_potsdam_4_11_RGBIR.tif: TIFFReadDirectory:Sum of Photometric type-related color channels and ExtraSamples doesn't match SamplesPerPixel. Defining non-color channels as ExtraSamples.\n",
            "WARNING:rasterio._env:CPLE_AppDefined in /content/drive/MyDrive/PotsdamDataset/4_Ortho_RGBIR/top_potsdam_3_10_RGBIR.tif: TIFFReadDirectory:Sum of Photometric type-related color channels and ExtraSamples doesn't match SamplesPerPixel. Defining non-color channels as ExtraSamples.\n",
            " 92%|█████████▏| 12/13 [02:13<00:10, 10.86s/it]WARNING:rasterio._env:CPLE_AppDefined in /content/drive/MyDrive/PotsdamDataset/4_Ortho_RGBIR/top_potsdam_6_14_RGBIR.tif: TIFFReadDirectory:Sum of Photometric type-related color channels and ExtraSamples doesn't match SamplesPerPixel. Defining non-color channels as ExtraSamples.\n",
            "WARNING:rasterio._env:CPLE_AppDefined in /content/drive/MyDrive/PotsdamDataset/4_Ortho_RGBIR/top_potsdam_5_15_RGBIR.tif: TIFFReadDirectory:Sum of Photometric type-related color channels and ExtraSamples doesn't match SamplesPerPixel. Defining non-color channels as ExtraSamples.\n",
            "100%|██████████| 13/13 [02:23<00:00, 11.00s/it]"
          ]
        },
        {
          "output_type": "stream",
          "name": "stdout",
          "text": [
            "mean per channel: tensor([86.1248, 92.1221, 85.4812, 96.6683])\n",
            "std per channel: tensor([35.3596, 34.9417, 36.3786, 35.6384])\n"
          ]
        },
        {
          "output_type": "stream",
          "name": "stderr",
          "text": [
            "\n"
          ]
        }
      ],
      "source": [
        "##\n",
        "num_channels = 4  # RGBIR has 4 channels\n",
        "dtype = torch.float32  # Imposta il tipo di dato desiderato\n",
        "\n",
        "# placeholders\n",
        "psum = torch.zeros(num_channels, dtype=dtype)\n",
        "psum_sq = torch.zeros(num_channels, dtype=dtype)\n",
        "count = 0\n",
        "\n",
        "# loop through images\n",
        "for inputs, labels, georeference_info in tqdm(train_loader):\n",
        "    # Converti il tensore in tipo di dato a precisione maggiore\n",
        "    inputs = inputs.to(dtype)\n",
        "\n",
        "    psum += inputs.sum(axis = [0, 2, 3])\n",
        "    psum_sq += (inputs ** 2).sum(axis = [0, 2, 3])\n",
        "\n",
        "    # Conteggio dei pixel\n",
        "    count += inputs.size(0) * inputs.size(2) * inputs.size(3)\n",
        "\n",
        "total_mean = psum / count\n",
        "\n",
        "# Calcola la varianza per canale\n",
        "total_var = (psum_sq / count) - (total_mean ** 2)\n",
        "\n",
        "# Calcola la deviazione standard per canale\n",
        "total_std = torch.sqrt(total_var)\n",
        "# output\n",
        "print('mean per channel: ' + str(total_mean))\n",
        "print('std per channel: ' + str(total_std))\n"
      ]
    },
    {
      "cell_type": "code",
      "source": [
        "dataset_with_transform = PotsdamDataset(data_folder, transform=[total_mean, total_std])"
      ],
      "metadata": {
        "id": "KcX3iYUJzGWi"
      },
      "execution_count": 8,
      "outputs": []
    },
    {
      "cell_type": "code",
      "execution_count": 9,
      "metadata": {
        "id": "HJrIM9aPoUjs"
      },
      "outputs": [],
      "source": [
        "\n",
        "size_with_transform = len(dataset_with_transform)\n",
        "\n",
        "# Specifica la percentuale di divisione tra training, validation e test\n",
        "train_percentage = 0.7\n",
        "val_percentage = 0.15\n",
        "test_percentage = 0.15\n",
        "\n",
        "# Calcola le dimensioni dei set di addestramento, validazione e test\n",
        "train_size_with_transform = int(train_percentage * size_with_transform)\n",
        "val_size_with_transform = int(val_percentage * size_with_transform)\n",
        "test_size_with_transform = size_with_transform - train_size_with_transform - val_size_with_transform\n",
        "\n",
        "# Crea i set di addestramento, validazione e test\n",
        "train_dataset_with_transform, val_dataset_with_transform, test_dataset_with_transform = random_split(\n",
        "    dataset_with_transform, [train_size_with_transform, val_size_with_transform, test_size_with_transform]\n",
        ")\n",
        "\n",
        "# Definisci la dimensione del batch\n",
        "batch_size = 2\n",
        "\n",
        "# Crea i DataLoader per i set di addestramento, validazione e test\n",
        "train_loader_with_transform = DataLoader(train_dataset_with_transform, batch_size=batch_size, shuffle=True)\n",
        "val_loader_with_transform = DataLoader(val_dataset_with_transform, batch_size=batch_size, shuffle=False)\n",
        "test_loader_with_transform = DataLoader(test_dataset_with_transform, batch_size=batch_size, shuffle=False)\n"
      ]
    },
    {
      "cell_type": "markdown",
      "source": [
        "##Implementazione UNET"
      ],
      "metadata": {
        "id": "Ie3dAWdRrH96"
      }
    },
    {
      "cell_type": "code",
      "source": [
        "import torch\n",
        "import torch.nn as nn\n",
        "\n",
        "class DoubleConvolution(nn.Module):\n",
        "    def __init__(self, in_channels, out_channels):\n",
        "        super(DoubleConvolution, self).__init__()\n",
        "        self.conv = nn.Sequential(\n",
        "            nn.Conv2d(in_channels, out_channels, kernel_size=3, stride=1, padding=1, bias=False),\n",
        "            nn.BatchNorm2d(out_channels),\n",
        "            nn.ReLU(inplace=True),\n",
        "            nn.Conv2d(out_channels, out_channels, kernel_size=3, stride=1, padding=1, bias=False),\n",
        "            nn.BatchNorm2d(out_channels),\n",
        "            nn.ReLU(inplace=True)\n",
        "        )\n",
        "\n",
        "    def forward(self, x):\n",
        "        return self.conv(x)\n",
        "\n",
        "class UNet(nn.Module):\n",
        "    def __init__(self, in_channels, out_channels, features=[64,128,256,512]):\n",
        "        super(UNet, self).__init__()\n",
        "\n",
        "        self.ups = nn.ModuleList()\n",
        "        self.downs = nn.ModuleList()\n",
        "        self.pool = nn.MaxPool2d(kernel_size=2, stride=2)\n",
        "\n",
        "        for feature in features:\n",
        "          self.downs.append(DoubleConvolution(in_channels, feature))\n",
        "          in_channels = feature\n",
        "\n",
        "        for feature in reversed(features):\n",
        "          self.ups.append(nn.ConvTranspose2d(feature*2, feature, kernel_size=2, stride=2))\n",
        "          self.ups.append(DoubleConvolution(feature*2, feature))\n",
        "\n",
        "        self.bottleneck = DoubleConvolution(features[-1], features[-1]*2)\n",
        "        self.final_conv = nn.Conv2d(features[0], out_channels, kernel_size=1)\n",
        "\n",
        "\n",
        "    def forward(self, x):\n",
        "\n",
        "      skip_connections = []\n",
        "      for down in self.downs:\n",
        "        x = down(x)\n",
        "        skip_connections.append(x)\n",
        "        x = self.pool(x)\n",
        "\n",
        "      x = self.bottleneck(x)\n",
        "      skip_connections = skip_connections[::-1]\n",
        "\n",
        "      for i in range(0,len(self.ups),2):\n",
        "        x = self.ups[i](x)\n",
        "        skip_connection = skip_connections[i//2]\n",
        "\n",
        "        if x.shape != skip_connection.shape:\n",
        "          x = transforms.functional.resize(x, size=skip_connection.shape[2:])\n",
        "\n",
        "        concat_skip = torch.cat((skip_connection,x), dim=1)\n",
        "        x = self.ups[i+1](concat_skip)\n",
        "\n",
        "      return self.final_conv(x)\n",
        "\n"
      ],
      "metadata": {
        "id": "OWb0viXJrL2-"
      },
      "execution_count": 10,
      "outputs": []
    },
    {
      "cell_type": "code",
      "source": [
        "model = UNet(in_channels=4, out_channels=6)\n",
        "preds = model(i)\n",
        "print(preds.shape)\n",
        "print(i.shape)\n",
        "assert preds.shape == i.shape"
      ],
      "metadata": {
        "id": "VeWgrMvuDKMV"
      },
      "execution_count": null,
      "outputs": []
    },
    {
      "cell_type": "markdown",
      "source": [
        "##Training part"
      ],
      "metadata": {
        "id": "l-6du0zqmWb6"
      }
    },
    {
      "cell_type": "code",
      "source": [
        "DEVICE = \"cuda\" if torch.cuda.is_available() else \"cpu\"\n",
        "\n",
        "def train_function(loader, model, optimizer, loss_function, scaler):\n",
        "  for idx, batch in enumerate(tqdm(loader)):\n",
        "    images, labels, geo_inf = batch\n",
        "    images = images.to(DEVICE)\n",
        "    labels = labels.to(DEVICE)\n",
        "\n",
        "    with torch.cuda.amp.autocast():\n",
        "      predictions = model(images)\n",
        "      loss = loss_function(predictions, labels)\n",
        "\n",
        "    optimizer.zero_grad()\n",
        "    scaler(loss).backward()\n",
        "    scaler.step(optimizer)\n",
        "    scaler.update()"
      ],
      "metadata": {
        "id": "ibKWL8kQUQ5I"
      },
      "execution_count": null,
      "outputs": []
    },
    {
      "cell_type": "code",
      "source": [
        "import torch\n",
        "import torch.nn as nn\n",
        "import torch.optim as optim\n",
        "from torch.utils.data import DataLoader, random_split\n",
        "from tqdm import tqdm\n",
        "\n",
        "# Imposta i parametri di riduzione delle dimensioni\n",
        "image_height, image_width = 256, 256  # Dimensioni ridotte\n",
        "subset_percentage = 1\n",
        "\n",
        "# Carica il dataset originale\n",
        "dataset = PotsdamDataset(data_folder,transform=[total_mean, total_std])\n",
        "\n",
        "# Riduci la dimensione del dataset\n",
        "subset_size = int(len(dataset) * subset_percentage)\n",
        "subset_dataset, _ = random_split(dataset, [subset_size, len(dataset) - subset_size])\n",
        "\n",
        "# Carica il subset del dataset\n",
        "train_size = int(0.7 * len(subset_dataset))\n",
        "val_size = int(0.15 * len(subset_dataset))\n",
        "test_size = len(subset_dataset) - train_size - val_size\n",
        "\n",
        "train_dataset, val_dataset, test_dataset = random_split(subset_dataset, [train_size, val_size, test_size])\n",
        "\n",
        "# Crea i DataLoader\n",
        "batch_size = 2\n",
        "train_loader = DataLoader(train_dataset, batch_size=batch_size, shuffle=True)\n",
        "val_loader = DataLoader(val_dataset, batch_size=batch_size, shuffle=False)\n",
        "test_loader = DataLoader(test_dataset, batch_size=batch_size, shuffle=False)\n",
        "\n",
        "resize_transform = transforms.Resize((image_height, image_width))  # Imposta new_height e new_width desiderati\n",
        "\n"
      ],
      "metadata": {
        "id": "5K5TkZYy3q67"
      },
      "execution_count": 63,
      "outputs": []
    },
    {
      "cell_type": "code",
      "source": [
        "resize_transform = transforms.Resize((image_height, image_width))  # Imposta new_height e new_width desiderati\n",
        "\n",
        "DEVICE = torch.device('cuda' if torch.cuda.is_available() else 'cpu')\n",
        "\n",
        "# Definisci il modello, il criterio di perdita e l'ottimizzatore\n",
        "model = UNet(in_channels=4, out_channels=6)\n",
        "criterion = nn.CrossEntropyLoss()\n",
        "optimizer = optim.Adam(model.parameters(), lr=0.001)\n",
        "\n",
        "# Imposta il numero di epoche\n",
        "num_epochs = 5\n",
        "\n",
        "# Ciclo di addestramento\n",
        "for epoch in range(num_epochs):\n",
        "    model.train()\n",
        "    running_loss = 0.0\n",
        "\n",
        "    for inputs, labels, _ in tqdm(train_loader):\n",
        "        inputs, labels = inputs.to(DEVICE), labels.to(DEVICE)\n",
        "        inputs_resized = torch.stack([resize_transform(img) for img in inputs])\n",
        "        labels_resized = torch.stack([resize_transform(lbl.unsqueeze(0)).squeeze(0) for lbl in labels])\n",
        "        optimizer.zero_grad()\n",
        "        outputs = model(inputs_resized)\n",
        "        loss = criterion(outputs, labels_resized)\n",
        "        loss.backward()\n",
        "        optimizer.step()\n",
        "\n",
        "        running_loss += loss.item()\n",
        "\n",
        "    print(f'Epoch {epoch + 1}/{num_epochs}, Loss: {running_loss / len(train_loader)}')\n"
      ],
      "metadata": {
        "colab": {
          "base_uri": "https://localhost:8080/"
        },
        "id": "TLOMUletRCJT",
        "outputId": "0e906836-84fb-4a8b-9c41-a7f2dcdaab2f"
      },
      "execution_count": 64,
      "outputs": [
        {
          "output_type": "stream",
          "name": "stderr",
          "text": [
            "\r  0%|          | 0/13 [00:00<?, ?it/s]WARNING:rasterio._env:CPLE_AppDefined in /content/drive/MyDrive/PotsdamDataset/4_Ortho_RGBIR/top_potsdam_6_13_RGBIR.tif: TIFFReadDirectory:Sum of Photometric type-related color channels and ExtraSamples doesn't match SamplesPerPixel. Defining non-color channels as ExtraSamples.\n",
            "WARNING:rasterio._env:CPLE_AppDefined in /content/drive/MyDrive/PotsdamDataset/4_Ortho_RGBIR/top_potsdam_4_12_RGBIR.tif: TIFFReadDirectory:Sum of Photometric type-related color channels and ExtraSamples doesn't match SamplesPerPixel. Defining non-color channels as ExtraSamples.\n",
            "  8%|▊         | 1/13 [00:23<04:45, 23.80s/it]WARNING:rasterio._env:CPLE_AppDefined in /content/drive/MyDrive/PotsdamDataset/4_Ortho_RGBIR/top_potsdam_5_13_RGBIR.tif: TIFFReadDirectory:Sum of Photometric type-related color channels and ExtraSamples doesn't match SamplesPerPixel. Defining non-color channels as ExtraSamples.\n",
            "WARNING:rasterio._env:CPLE_AppDefined in /content/drive/MyDrive/PotsdamDataset/4_Ortho_RGBIR/top_potsdam_6_8_RGBIR.tif: TIFFReadDirectory:Sum of Photometric type-related color channels and ExtraSamples doesn't match SamplesPerPixel. Defining non-color channels as ExtraSamples.\n",
            " 15%|█▌        | 2/13 [00:51<04:48, 26.23s/it]WARNING:rasterio._env:CPLE_AppDefined in /content/drive/MyDrive/PotsdamDataset/4_Ortho_RGBIR/top_potsdam_4_10_RGBIR.tif: TIFFReadDirectory:Sum of Photometric type-related color channels and ExtraSamples doesn't match SamplesPerPixel. Defining non-color channels as ExtraSamples.\n",
            "WARNING:rasterio._env:CPLE_AppDefined in /content/drive/MyDrive/PotsdamDataset/4_Ortho_RGBIR/top_potsdam_7_9_RGBIR.tif: TIFFReadDirectory:Sum of Photometric type-related color channels and ExtraSamples doesn't match SamplesPerPixel. Defining non-color channels as ExtraSamples.\n",
            " 23%|██▎       | 3/13 [01:18<04:23, 26.33s/it]WARNING:rasterio._env:CPLE_AppDefined in /content/drive/MyDrive/PotsdamDataset/4_Ortho_RGBIR/top_potsdam_6_9_RGBIR.tif: TIFFReadDirectory:Sum of Photometric type-related color channels and ExtraSamples doesn't match SamplesPerPixel. Defining non-color channels as ExtraSamples.\n",
            "WARNING:rasterio._env:CPLE_AppDefined in /content/drive/MyDrive/PotsdamDataset/4_Ortho_RGBIR/top_potsdam_5_11_RGBIR.tif: TIFFReadDirectory:Sum of Photometric type-related color channels and ExtraSamples doesn't match SamplesPerPixel. Defining non-color channels as ExtraSamples.\n",
            " 31%|███       | 4/13 [01:42<03:50, 25.57s/it]WARNING:rasterio._env:CPLE_AppDefined in /content/drive/MyDrive/PotsdamDataset/4_Ortho_RGBIR/top_potsdam_6_7_RGBIR.tif: TIFFReadDirectory:Sum of Photometric type-related color channels and ExtraSamples doesn't match SamplesPerPixel. Defining non-color channels as ExtraSamples.\n",
            "WARNING:rasterio._env:CPLE_AppDefined in /content/drive/MyDrive/PotsdamDataset/4_Ortho_RGBIR/top_potsdam_3_14_RGBIR.tif: TIFFReadDirectory:Sum of Photometric type-related color channels and ExtraSamples doesn't match SamplesPerPixel. Defining non-color channels as ExtraSamples.\n",
            " 38%|███▊      | 5/13 [02:08<03:25, 25.71s/it]WARNING:rasterio._env:CPLE_AppDefined in /content/drive/MyDrive/PotsdamDataset/4_Ortho_RGBIR/top_potsdam_2_13_RGBIR.tif: TIFFReadDirectory:Sum of Photometric type-related color channels and ExtraSamples doesn't match SamplesPerPixel. Defining non-color channels as ExtraSamples.\n",
            "WARNING:rasterio._env:CPLE_AppDefined in /content/drive/MyDrive/PotsdamDataset/4_Ortho_RGBIR/top_potsdam_2_12_RGBIR.tif: TIFFReadDirectory:Sum of Photometric type-related color channels and ExtraSamples doesn't match SamplesPerPixel. Defining non-color channels as ExtraSamples.\n",
            " 46%|████▌     | 6/13 [02:33<02:59, 25.59s/it]WARNING:rasterio._env:CPLE_AppDefined in /content/drive/MyDrive/PotsdamDataset/4_Ortho_RGBIR/top_potsdam_6_14_RGBIR.tif: TIFFReadDirectory:Sum of Photometric type-related color channels and ExtraSamples doesn't match SamplesPerPixel. Defining non-color channels as ExtraSamples.\n",
            "WARNING:rasterio._env:CPLE_AppDefined in /content/drive/MyDrive/PotsdamDataset/4_Ortho_RGBIR/top_potsdam_7_13_RGBIR.tif: TIFFReadDirectory:Sum of Photometric type-related color channels and ExtraSamples doesn't match SamplesPerPixel. Defining non-color channels as ExtraSamples.\n",
            " 54%|█████▍    | 7/13 [02:59<02:32, 25.48s/it]WARNING:rasterio._env:CPLE_AppDefined in /content/drive/MyDrive/PotsdamDataset/4_Ortho_RGBIR/top_potsdam_7_7_RGBIR.tif: TIFFReadDirectory:Sum of Photometric type-related color channels and ExtraSamples doesn't match SamplesPerPixel. Defining non-color channels as ExtraSamples.\n",
            "WARNING:rasterio._env:CPLE_AppDefined in /content/drive/MyDrive/PotsdamDataset/4_Ortho_RGBIR/top_potsdam_6_11_RGBIR.tif: TIFFReadDirectory:Sum of Photometric type-related color channels and ExtraSamples doesn't match SamplesPerPixel. Defining non-color channels as ExtraSamples.\n",
            " 62%|██████▏   | 8/13 [03:23<02:05, 25.13s/it]WARNING:rasterio._env:CPLE_AppDefined in /content/drive/MyDrive/PotsdamDataset/4_Ortho_RGBIR/top_potsdam_5_14_RGBIR.tif: TIFFReadDirectory:Sum of Photometric type-related color channels and ExtraSamples doesn't match SamplesPerPixel. Defining non-color channels as ExtraSamples.\n",
            "WARNING:rasterio._env:CPLE_AppDefined in /content/drive/MyDrive/PotsdamDataset/4_Ortho_RGBIR/top_potsdam_4_14_RGBIR.tif: TIFFReadDirectory:Sum of Photometric type-related color channels and ExtraSamples doesn't match SamplesPerPixel. Defining non-color channels as ExtraSamples.\n",
            " 69%|██████▉   | 9/13 [03:48<01:40, 25.23s/it]WARNING:rasterio._env:CPLE_AppDefined in /content/drive/MyDrive/PotsdamDataset/4_Ortho_RGBIR/top_potsdam_4_11_RGBIR.tif: TIFFReadDirectory:Sum of Photometric type-related color channels and ExtraSamples doesn't match SamplesPerPixel. Defining non-color channels as ExtraSamples.\n",
            "WARNING:rasterio._env:CPLE_AppDefined in /content/drive/MyDrive/PotsdamDataset/4_Ortho_RGBIR/top_potsdam_5_12_RGBIR.tif: TIFFReadDirectory:Sum of Photometric type-related color channels and ExtraSamples doesn't match SamplesPerPixel. Defining non-color channels as ExtraSamples.\n",
            " 77%|███████▋  | 10/13 [04:13<01:14, 24.98s/it]WARNING:rasterio._env:CPLE_AppDefined in /content/drive/MyDrive/PotsdamDataset/4_Ortho_RGBIR/top_potsdam_7_12_RGBIR.tif: TIFFReadDirectory:Sum of Photometric type-related color channels and ExtraSamples doesn't match SamplesPerPixel. Defining non-color channels as ExtraSamples.\n",
            "WARNING:rasterio._env:CPLE_AppDefined in /content/drive/MyDrive/PotsdamDataset/4_Ortho_RGBIR/top_potsdam_6_15_RGBIR.tif: TIFFReadDirectory:Sum of Photometric type-related color channels and ExtraSamples doesn't match SamplesPerPixel. Defining non-color channels as ExtraSamples.\n",
            " 85%|████████▍ | 11/13 [04:39<00:50, 25.22s/it]WARNING:rasterio._env:CPLE_AppDefined in /content/drive/MyDrive/PotsdamDataset/4_Ortho_RGBIR/top_potsdam_3_12_RGBIR.tif: TIFFReadDirectory:Sum of Photometric type-related color channels and ExtraSamples doesn't match SamplesPerPixel. Defining non-color channels as ExtraSamples.\n",
            "WARNING:rasterio._env:CPLE_AppDefined in /content/drive/MyDrive/PotsdamDataset/4_Ortho_RGBIR/top_potsdam_5_15_RGBIR.tif: TIFFReadDirectory:Sum of Photometric type-related color channels and ExtraSamples doesn't match SamplesPerPixel. Defining non-color channels as ExtraSamples.\n",
            " 92%|█████████▏| 12/13 [05:05<00:25, 25.70s/it]WARNING:rasterio._env:CPLE_AppDefined in /content/drive/MyDrive/PotsdamDataset/4_Ortho_RGBIR/top_potsdam_2_11_RGBIR.tif: TIFFReadDirectory:Sum of Photometric type-related color channels and ExtraSamples doesn't match SamplesPerPixel. Defining non-color channels as ExtraSamples.\n",
            "WARNING:rasterio._env:CPLE_AppDefined in /content/drive/MyDrive/PotsdamDataset/4_Ortho_RGBIR/top_potsdam_6_10_RGBIR.tif: TIFFReadDirectory:Sum of Photometric type-related color channels and ExtraSamples doesn't match SamplesPerPixel. Defining non-color channels as ExtraSamples.\n",
            "100%|██████████| 13/13 [05:32<00:00, 25.54s/it]\n"
          ]
        },
        {
          "output_type": "stream",
          "name": "stdout",
          "text": [
            "Epoch 1/5, Loss: 1.3190110646761382\n"
          ]
        },
        {
          "output_type": "stream",
          "name": "stderr",
          "text": [
            "\r  0%|          | 0/13 [00:00<?, ?it/s]WARNING:rasterio._env:CPLE_AppDefined in /content/drive/MyDrive/PotsdamDataset/4_Ortho_RGBIR/top_potsdam_2_12_RGBIR.tif: TIFFReadDirectory:Sum of Photometric type-related color channels and ExtraSamples doesn't match SamplesPerPixel. Defining non-color channels as ExtraSamples.\n",
            "WARNING:rasterio._env:CPLE_AppDefined in /content/drive/MyDrive/PotsdamDataset/4_Ortho_RGBIR/top_potsdam_5_13_RGBIR.tif: TIFFReadDirectory:Sum of Photometric type-related color channels and ExtraSamples doesn't match SamplesPerPixel. Defining non-color channels as ExtraSamples.\n",
            "  8%|▊         | 1/13 [00:24<04:56, 24.70s/it]WARNING:rasterio._env:CPLE_AppDefined in /content/drive/MyDrive/PotsdamDataset/4_Ortho_RGBIR/top_potsdam_5_15_RGBIR.tif: TIFFReadDirectory:Sum of Photometric type-related color channels and ExtraSamples doesn't match SamplesPerPixel. Defining non-color channels as ExtraSamples.\n",
            "WARNING:rasterio._env:CPLE_AppDefined in /content/drive/MyDrive/PotsdamDataset/4_Ortho_RGBIR/top_potsdam_3_14_RGBIR.tif: TIFFReadDirectory:Sum of Photometric type-related color channels and ExtraSamples doesn't match SamplesPerPixel. Defining non-color channels as ExtraSamples.\n",
            " 15%|█▌        | 2/13 [00:49<04:33, 24.89s/it]WARNING:rasterio._env:CPLE_AppDefined in /content/drive/MyDrive/PotsdamDataset/4_Ortho_RGBIR/top_potsdam_6_10_RGBIR.tif: TIFFReadDirectory:Sum of Photometric type-related color channels and ExtraSamples doesn't match SamplesPerPixel. Defining non-color channels as ExtraSamples.\n",
            "WARNING:rasterio._env:CPLE_AppDefined in /content/drive/MyDrive/PotsdamDataset/4_Ortho_RGBIR/top_potsdam_7_7_RGBIR.tif: TIFFReadDirectory:Sum of Photometric type-related color channels and ExtraSamples doesn't match SamplesPerPixel. Defining non-color channels as ExtraSamples.\n",
            " 23%|██▎       | 3/13 [01:15<04:11, 25.15s/it]WARNING:rasterio._env:CPLE_AppDefined in /content/drive/MyDrive/PotsdamDataset/4_Ortho_RGBIR/top_potsdam_2_13_RGBIR.tif: TIFFReadDirectory:Sum of Photometric type-related color channels and ExtraSamples doesn't match SamplesPerPixel. Defining non-color channels as ExtraSamples.\n",
            "WARNING:rasterio._env:CPLE_AppDefined in /content/drive/MyDrive/PotsdamDataset/4_Ortho_RGBIR/top_potsdam_2_11_RGBIR.tif: TIFFReadDirectory:Sum of Photometric type-related color channels and ExtraSamples doesn't match SamplesPerPixel. Defining non-color channels as ExtraSamples.\n",
            " 31%|███       | 4/13 [01:40<03:47, 25.33s/it]WARNING:rasterio._env:CPLE_AppDefined in /content/drive/MyDrive/PotsdamDataset/4_Ortho_RGBIR/top_potsdam_6_13_RGBIR.tif: TIFFReadDirectory:Sum of Photometric type-related color channels and ExtraSamples doesn't match SamplesPerPixel. Defining non-color channels as ExtraSamples.\n",
            "WARNING:rasterio._env:CPLE_AppDefined in /content/drive/MyDrive/PotsdamDataset/4_Ortho_RGBIR/top_potsdam_5_14_RGBIR.tif: TIFFReadDirectory:Sum of Photometric type-related color channels and ExtraSamples doesn't match SamplesPerPixel. Defining non-color channels as ExtraSamples.\n",
            " 38%|███▊      | 5/13 [02:07<03:25, 25.71s/it]WARNING:rasterio._env:CPLE_AppDefined in /content/drive/MyDrive/PotsdamDataset/4_Ortho_RGBIR/top_potsdam_6_11_RGBIR.tif: TIFFReadDirectory:Sum of Photometric type-related color channels and ExtraSamples doesn't match SamplesPerPixel. Defining non-color channels as ExtraSamples.\n",
            "WARNING:rasterio._env:CPLE_AppDefined in /content/drive/MyDrive/PotsdamDataset/4_Ortho_RGBIR/top_potsdam_3_12_RGBIR.tif: TIFFReadDirectory:Sum of Photometric type-related color channels and ExtraSamples doesn't match SamplesPerPixel. Defining non-color channels as ExtraSamples.\n",
            " 46%|████▌     | 6/13 [02:31<02:57, 25.35s/it]WARNING:rasterio._env:CPLE_AppDefined in /content/drive/MyDrive/PotsdamDataset/4_Ortho_RGBIR/top_potsdam_7_13_RGBIR.tif: TIFFReadDirectory:Sum of Photometric type-related color channels and ExtraSamples doesn't match SamplesPerPixel. Defining non-color channels as ExtraSamples.\n",
            "WARNING:rasterio._env:CPLE_AppDefined in /content/drive/MyDrive/PotsdamDataset/4_Ortho_RGBIR/top_potsdam_4_12_RGBIR.tif: TIFFReadDirectory:Sum of Photometric type-related color channels and ExtraSamples doesn't match SamplesPerPixel. Defining non-color channels as ExtraSamples.\n",
            " 54%|█████▍    | 7/13 [02:56<02:30, 25.11s/it]WARNING:rasterio._env:CPLE_AppDefined in /content/drive/MyDrive/PotsdamDataset/4_Ortho_RGBIR/top_potsdam_4_11_RGBIR.tif: TIFFReadDirectory:Sum of Photometric type-related color channels and ExtraSamples doesn't match SamplesPerPixel. Defining non-color channels as ExtraSamples.\n",
            "WARNING:rasterio._env:CPLE_AppDefined in /content/drive/MyDrive/PotsdamDataset/4_Ortho_RGBIR/top_potsdam_6_14_RGBIR.tif: TIFFReadDirectory:Sum of Photometric type-related color channels and ExtraSamples doesn't match SamplesPerPixel. Defining non-color channels as ExtraSamples.\n",
            " 62%|██████▏   | 8/13 [03:21<02:05, 25.08s/it]WARNING:rasterio._env:CPLE_AppDefined in /content/drive/MyDrive/PotsdamDataset/4_Ortho_RGBIR/top_potsdam_7_9_RGBIR.tif: TIFFReadDirectory:Sum of Photometric type-related color channels and ExtraSamples doesn't match SamplesPerPixel. Defining non-color channels as ExtraSamples.\n",
            "WARNING:rasterio._env:CPLE_AppDefined in /content/drive/MyDrive/PotsdamDataset/4_Ortho_RGBIR/top_potsdam_6_15_RGBIR.tif: TIFFReadDirectory:Sum of Photometric type-related color channels and ExtraSamples doesn't match SamplesPerPixel. Defining non-color channels as ExtraSamples.\n",
            " 69%|██████▉   | 9/13 [03:47<01:41, 25.39s/it]WARNING:rasterio._env:CPLE_AppDefined in /content/drive/MyDrive/PotsdamDataset/4_Ortho_RGBIR/top_potsdam_5_11_RGBIR.tif: TIFFReadDirectory:Sum of Photometric type-related color channels and ExtraSamples doesn't match SamplesPerPixel. Defining non-color channels as ExtraSamples.\n",
            "WARNING:rasterio._env:CPLE_AppDefined in /content/drive/MyDrive/PotsdamDataset/4_Ortho_RGBIR/top_potsdam_4_14_RGBIR.tif: TIFFReadDirectory:Sum of Photometric type-related color channels and ExtraSamples doesn't match SamplesPerPixel. Defining non-color channels as ExtraSamples.\n",
            " 77%|███████▋  | 10/13 [04:12<01:15, 25.15s/it]WARNING:rasterio._env:CPLE_AppDefined in /content/drive/MyDrive/PotsdamDataset/4_Ortho_RGBIR/top_potsdam_6_7_RGBIR.tif: TIFFReadDirectory:Sum of Photometric type-related color channels and ExtraSamples doesn't match SamplesPerPixel. Defining non-color channels as ExtraSamples.\n",
            "WARNING:rasterio._env:CPLE_AppDefined in /content/drive/MyDrive/PotsdamDataset/4_Ortho_RGBIR/top_potsdam_7_12_RGBIR.tif: TIFFReadDirectory:Sum of Photometric type-related color channels and ExtraSamples doesn't match SamplesPerPixel. Defining non-color channels as ExtraSamples.\n",
            " 85%|████████▍ | 11/13 [04:38<00:51, 25.57s/it]WARNING:rasterio._env:CPLE_AppDefined in /content/drive/MyDrive/PotsdamDataset/4_Ortho_RGBIR/top_potsdam_6_9_RGBIR.tif: TIFFReadDirectory:Sum of Photometric type-related color channels and ExtraSamples doesn't match SamplesPerPixel. Defining non-color channels as ExtraSamples.\n",
            "WARNING:rasterio._env:CPLE_AppDefined in /content/drive/MyDrive/PotsdamDataset/4_Ortho_RGBIR/top_potsdam_5_12_RGBIR.tif: TIFFReadDirectory:Sum of Photometric type-related color channels and ExtraSamples doesn't match SamplesPerPixel. Defining non-color channels as ExtraSamples.\n",
            " 92%|█████████▏| 12/13 [05:02<00:25, 25.17s/it]WARNING:rasterio._env:CPLE_AppDefined in /content/drive/MyDrive/PotsdamDataset/4_Ortho_RGBIR/top_potsdam_6_8_RGBIR.tif: TIFFReadDirectory:Sum of Photometric type-related color channels and ExtraSamples doesn't match SamplesPerPixel. Defining non-color channels as ExtraSamples.\n",
            "WARNING:rasterio._env:CPLE_AppDefined in /content/drive/MyDrive/PotsdamDataset/4_Ortho_RGBIR/top_potsdam_4_10_RGBIR.tif: TIFFReadDirectory:Sum of Photometric type-related color channels and ExtraSamples doesn't match SamplesPerPixel. Defining non-color channels as ExtraSamples.\n",
            "100%|██████████| 13/13 [05:31<00:00, 25.51s/it]\n"
          ]
        },
        {
          "output_type": "stream",
          "name": "stdout",
          "text": [
            "Epoch 2/5, Loss: 1.1055783675267146\n"
          ]
        },
        {
          "output_type": "stream",
          "name": "stderr",
          "text": [
            "\r  0%|          | 0/13 [00:00<?, ?it/s]WARNING:rasterio._env:CPLE_AppDefined in /content/drive/MyDrive/PotsdamDataset/4_Ortho_RGBIR/top_potsdam_2_11_RGBIR.tif: TIFFReadDirectory:Sum of Photometric type-related color channels and ExtraSamples doesn't match SamplesPerPixel. Defining non-color channels as ExtraSamples.\n",
            "WARNING:rasterio._env:CPLE_AppDefined in /content/drive/MyDrive/PotsdamDataset/4_Ortho_RGBIR/top_potsdam_4_14_RGBIR.tif: TIFFReadDirectory:Sum of Photometric type-related color channels and ExtraSamples doesn't match SamplesPerPixel. Defining non-color channels as ExtraSamples.\n",
            "  8%|▊         | 1/13 [00:27<05:30, 27.51s/it]WARNING:rasterio._env:CPLE_AppDefined in /content/drive/MyDrive/PotsdamDataset/4_Ortho_RGBIR/top_potsdam_6_14_RGBIR.tif: TIFFReadDirectory:Sum of Photometric type-related color channels and ExtraSamples doesn't match SamplesPerPixel. Defining non-color channels as ExtraSamples.\n",
            "WARNING:rasterio._env:CPLE_AppDefined in /content/drive/MyDrive/PotsdamDataset/4_Ortho_RGBIR/top_potsdam_6_15_RGBIR.tif: TIFFReadDirectory:Sum of Photometric type-related color channels and ExtraSamples doesn't match SamplesPerPixel. Defining non-color channels as ExtraSamples.\n",
            " 15%|█▌        | 2/13 [00:53<04:52, 26.62s/it]WARNING:rasterio._env:CPLE_AppDefined in /content/drive/MyDrive/PotsdamDataset/4_Ortho_RGBIR/top_potsdam_5_14_RGBIR.tif: TIFFReadDirectory:Sum of Photometric type-related color channels and ExtraSamples doesn't match SamplesPerPixel. Defining non-color channels as ExtraSamples.\n",
            "WARNING:rasterio._env:CPLE_AppDefined in /content/drive/MyDrive/PotsdamDataset/4_Ortho_RGBIR/top_potsdam_2_13_RGBIR.tif: TIFFReadDirectory:Sum of Photometric type-related color channels and ExtraSamples doesn't match SamplesPerPixel. Defining non-color channels as ExtraSamples.\n",
            " 23%|██▎       | 3/13 [01:20<04:27, 26.74s/it]WARNING:rasterio._env:CPLE_AppDefined in /content/drive/MyDrive/PotsdamDataset/4_Ortho_RGBIR/top_potsdam_3_12_RGBIR.tif: TIFFReadDirectory:Sum of Photometric type-related color channels and ExtraSamples doesn't match SamplesPerPixel. Defining non-color channels as ExtraSamples.\n",
            "WARNING:rasterio._env:CPLE_AppDefined in /content/drive/MyDrive/PotsdamDataset/4_Ortho_RGBIR/top_potsdam_5_11_RGBIR.tif: TIFFReadDirectory:Sum of Photometric type-related color channels and ExtraSamples doesn't match SamplesPerPixel. Defining non-color channels as ExtraSamples.\n",
            " 31%|███       | 4/13 [01:45<03:53, 25.99s/it]WARNING:rasterio._env:CPLE_AppDefined in /content/drive/MyDrive/PotsdamDataset/4_Ortho_RGBIR/top_potsdam_6_8_RGBIR.tif: TIFFReadDirectory:Sum of Photometric type-related color channels and ExtraSamples doesn't match SamplesPerPixel. Defining non-color channels as ExtraSamples.\n",
            "WARNING:rasterio._env:CPLE_AppDefined in /content/drive/MyDrive/PotsdamDataset/4_Ortho_RGBIR/top_potsdam_5_15_RGBIR.tif: TIFFReadDirectory:Sum of Photometric type-related color channels and ExtraSamples doesn't match SamplesPerPixel. Defining non-color channels as ExtraSamples.\n",
            " 38%|███▊      | 5/13 [02:11<03:30, 26.25s/it]WARNING:rasterio._env:CPLE_AppDefined in /content/drive/MyDrive/PotsdamDataset/4_Ortho_RGBIR/top_potsdam_7_9_RGBIR.tif: TIFFReadDirectory:Sum of Photometric type-related color channels and ExtraSamples doesn't match SamplesPerPixel. Defining non-color channels as ExtraSamples.\n",
            "WARNING:rasterio._env:CPLE_AppDefined in /content/drive/MyDrive/PotsdamDataset/4_Ortho_RGBIR/top_potsdam_7_12_RGBIR.tif: TIFFReadDirectory:Sum of Photometric type-related color channels and ExtraSamples doesn't match SamplesPerPixel. Defining non-color channels as ExtraSamples.\n",
            " 46%|████▌     | 6/13 [02:35<02:58, 25.46s/it]WARNING:rasterio._env:CPLE_AppDefined in /content/drive/MyDrive/PotsdamDataset/4_Ortho_RGBIR/top_potsdam_4_10_RGBIR.tif: TIFFReadDirectory:Sum of Photometric type-related color channels and ExtraSamples doesn't match SamplesPerPixel. Defining non-color channels as ExtraSamples.\n",
            "WARNING:rasterio._env:CPLE_AppDefined in /content/drive/MyDrive/PotsdamDataset/4_Ortho_RGBIR/top_potsdam_4_11_RGBIR.tif: TIFFReadDirectory:Sum of Photometric type-related color channels and ExtraSamples doesn't match SamplesPerPixel. Defining non-color channels as ExtraSamples.\n",
            " 54%|█████▍    | 7/13 [03:00<02:31, 25.28s/it]WARNING:rasterio._env:CPLE_AppDefined in /content/drive/MyDrive/PotsdamDataset/4_Ortho_RGBIR/top_potsdam_5_13_RGBIR.tif: TIFFReadDirectory:Sum of Photometric type-related color channels and ExtraSamples doesn't match SamplesPerPixel. Defining non-color channels as ExtraSamples.\n",
            "WARNING:rasterio._env:CPLE_AppDefined in /content/drive/MyDrive/PotsdamDataset/4_Ortho_RGBIR/top_potsdam_6_9_RGBIR.tif: TIFFReadDirectory:Sum of Photometric type-related color channels and ExtraSamples doesn't match SamplesPerPixel. Defining non-color channels as ExtraSamples.\n",
            " 62%|██████▏   | 8/13 [03:26<02:07, 25.53s/it]WARNING:rasterio._env:CPLE_AppDefined in /content/drive/MyDrive/PotsdamDataset/4_Ortho_RGBIR/top_potsdam_3_14_RGBIR.tif: TIFFReadDirectory:Sum of Photometric type-related color channels and ExtraSamples doesn't match SamplesPerPixel. Defining non-color channels as ExtraSamples.\n",
            "WARNING:rasterio._env:CPLE_AppDefined in /content/drive/MyDrive/PotsdamDataset/4_Ortho_RGBIR/top_potsdam_7_7_RGBIR.tif: TIFFReadDirectory:Sum of Photometric type-related color channels and ExtraSamples doesn't match SamplesPerPixel. Defining non-color channels as ExtraSamples.\n",
            " 69%|██████▉   | 9/13 [03:52<01:41, 25.43s/it]WARNING:rasterio._env:CPLE_AppDefined in /content/drive/MyDrive/PotsdamDataset/4_Ortho_RGBIR/top_potsdam_6_10_RGBIR.tif: TIFFReadDirectory:Sum of Photometric type-related color channels and ExtraSamples doesn't match SamplesPerPixel. Defining non-color channels as ExtraSamples.\n",
            "WARNING:rasterio._env:CPLE_AppDefined in /content/drive/MyDrive/PotsdamDataset/4_Ortho_RGBIR/top_potsdam_6_11_RGBIR.tif: TIFFReadDirectory:Sum of Photometric type-related color channels and ExtraSamples doesn't match SamplesPerPixel. Defining non-color channels as ExtraSamples.\n",
            " 77%|███████▋  | 10/13 [04:16<01:14, 24.99s/it]WARNING:rasterio._env:CPLE_AppDefined in /content/drive/MyDrive/PotsdamDataset/4_Ortho_RGBIR/top_potsdam_2_12_RGBIR.tif: TIFFReadDirectory:Sum of Photometric type-related color channels and ExtraSamples doesn't match SamplesPerPixel. Defining non-color channels as ExtraSamples.\n",
            "WARNING:rasterio._env:CPLE_AppDefined in /content/drive/MyDrive/PotsdamDataset/4_Ortho_RGBIR/top_potsdam_5_12_RGBIR.tif: TIFFReadDirectory:Sum of Photometric type-related color channels and ExtraSamples doesn't match SamplesPerPixel. Defining non-color channels as ExtraSamples.\n",
            " 85%|████████▍ | 11/13 [04:41<00:50, 25.18s/it]WARNING:rasterio._env:CPLE_AppDefined in /content/drive/MyDrive/PotsdamDataset/4_Ortho_RGBIR/top_potsdam_4_12_RGBIR.tif: TIFFReadDirectory:Sum of Photometric type-related color channels and ExtraSamples doesn't match SamplesPerPixel. Defining non-color channels as ExtraSamples.\n",
            "WARNING:rasterio._env:CPLE_AppDefined in /content/drive/MyDrive/PotsdamDataset/4_Ortho_RGBIR/top_potsdam_7_13_RGBIR.tif: TIFFReadDirectory:Sum of Photometric type-related color channels and ExtraSamples doesn't match SamplesPerPixel. Defining non-color channels as ExtraSamples.\n",
            " 92%|█████████▏| 12/13 [05:09<00:25, 25.87s/it]WARNING:rasterio._env:CPLE_AppDefined in /content/drive/MyDrive/PotsdamDataset/4_Ortho_RGBIR/top_potsdam_6_13_RGBIR.tif: TIFFReadDirectory:Sum of Photometric type-related color channels and ExtraSamples doesn't match SamplesPerPixel. Defining non-color channels as ExtraSamples.\n",
            "WARNING:rasterio._env:CPLE_AppDefined in /content/drive/MyDrive/PotsdamDataset/4_Ortho_RGBIR/top_potsdam_6_7_RGBIR.tif: TIFFReadDirectory:Sum of Photometric type-related color channels and ExtraSamples doesn't match SamplesPerPixel. Defining non-color channels as ExtraSamples.\n",
            "100%|██████████| 13/13 [05:34<00:00, 25.73s/it]\n"
          ]
        },
        {
          "output_type": "stream",
          "name": "stdout",
          "text": [
            "Epoch 3/5, Loss: 1.0236014769627497\n"
          ]
        },
        {
          "output_type": "stream",
          "name": "stderr",
          "text": [
            "\r  0%|          | 0/13 [00:00<?, ?it/s]WARNING:rasterio._env:CPLE_AppDefined in /content/drive/MyDrive/PotsdamDataset/4_Ortho_RGBIR/top_potsdam_7_9_RGBIR.tif: TIFFReadDirectory:Sum of Photometric type-related color channels and ExtraSamples doesn't match SamplesPerPixel. Defining non-color channels as ExtraSamples.\n",
            "WARNING:rasterio._env:CPLE_AppDefined in /content/drive/MyDrive/PotsdamDataset/4_Ortho_RGBIR/top_potsdam_3_14_RGBIR.tif: TIFFReadDirectory:Sum of Photometric type-related color channels and ExtraSamples doesn't match SamplesPerPixel. Defining non-color channels as ExtraSamples.\n",
            "  8%|▊         | 1/13 [00:25<05:01, 25.14s/it]WARNING:rasterio._env:CPLE_AppDefined in /content/drive/MyDrive/PotsdamDataset/4_Ortho_RGBIR/top_potsdam_2_12_RGBIR.tif: TIFFReadDirectory:Sum of Photometric type-related color channels and ExtraSamples doesn't match SamplesPerPixel. Defining non-color channels as ExtraSamples.\n",
            "WARNING:rasterio._env:CPLE_AppDefined in /content/drive/MyDrive/PotsdamDataset/4_Ortho_RGBIR/top_potsdam_6_11_RGBIR.tif: TIFFReadDirectory:Sum of Photometric type-related color channels and ExtraSamples doesn't match SamplesPerPixel. Defining non-color channels as ExtraSamples.\n",
            " 15%|█▌        | 2/13 [00:49<04:30, 24.58s/it]WARNING:rasterio._env:CPLE_AppDefined in /content/drive/MyDrive/PotsdamDataset/4_Ortho_RGBIR/top_potsdam_5_12_RGBIR.tif: TIFFReadDirectory:Sum of Photometric type-related color channels and ExtraSamples doesn't match SamplesPerPixel. Defining non-color channels as ExtraSamples.\n",
            "WARNING:rasterio._env:CPLE_AppDefined in /content/drive/MyDrive/PotsdamDataset/4_Ortho_RGBIR/top_potsdam_6_7_RGBIR.tif: TIFFReadDirectory:Sum of Photometric type-related color channels and ExtraSamples doesn't match SamplesPerPixel. Defining non-color channels as ExtraSamples.\n",
            " 23%|██▎       | 3/13 [01:14<04:09, 24.92s/it]WARNING:rasterio._env:CPLE_AppDefined in /content/drive/MyDrive/PotsdamDataset/4_Ortho_RGBIR/top_potsdam_6_13_RGBIR.tif: TIFFReadDirectory:Sum of Photometric type-related color channels and ExtraSamples doesn't match SamplesPerPixel. Defining non-color channels as ExtraSamples.\n",
            "WARNING:rasterio._env:CPLE_AppDefined in /content/drive/MyDrive/PotsdamDataset/4_Ortho_RGBIR/top_potsdam_6_9_RGBIR.tif: TIFFReadDirectory:Sum of Photometric type-related color channels and ExtraSamples doesn't match SamplesPerPixel. Defining non-color channels as ExtraSamples.\n",
            " 31%|███       | 4/13 [01:40<03:46, 25.12s/it]WARNING:rasterio._env:CPLE_AppDefined in /content/drive/MyDrive/PotsdamDataset/4_Ortho_RGBIR/top_potsdam_2_13_RGBIR.tif: TIFFReadDirectory:Sum of Photometric type-related color channels and ExtraSamples doesn't match SamplesPerPixel. Defining non-color channels as ExtraSamples.\n",
            "WARNING:rasterio._env:CPLE_AppDefined in /content/drive/MyDrive/PotsdamDataset/4_Ortho_RGBIR/top_potsdam_4_12_RGBIR.tif: TIFFReadDirectory:Sum of Photometric type-related color channels and ExtraSamples doesn't match SamplesPerPixel. Defining non-color channels as ExtraSamples.\n",
            " 38%|███▊      | 5/13 [02:05<03:21, 25.23s/it]WARNING:rasterio._env:CPLE_AppDefined in /content/drive/MyDrive/PotsdamDataset/4_Ortho_RGBIR/top_potsdam_5_15_RGBIR.tif: TIFFReadDirectory:Sum of Photometric type-related color channels and ExtraSamples doesn't match SamplesPerPixel. Defining non-color channels as ExtraSamples.\n",
            "WARNING:rasterio._env:CPLE_AppDefined in /content/drive/MyDrive/PotsdamDataset/4_Ortho_RGBIR/top_potsdam_3_12_RGBIR.tif: TIFFReadDirectory:Sum of Photometric type-related color channels and ExtraSamples doesn't match SamplesPerPixel. Defining non-color channels as ExtraSamples.\n",
            " 46%|████▌     | 6/13 [02:30<02:56, 25.16s/it]WARNING:rasterio._env:CPLE_AppDefined in /content/drive/MyDrive/PotsdamDataset/4_Ortho_RGBIR/top_potsdam_2_11_RGBIR.tif: TIFFReadDirectory:Sum of Photometric type-related color channels and ExtraSamples doesn't match SamplesPerPixel. Defining non-color channels as ExtraSamples.\n",
            "WARNING:rasterio._env:CPLE_AppDefined in /content/drive/MyDrive/PotsdamDataset/4_Ortho_RGBIR/top_potsdam_6_10_RGBIR.tif: TIFFReadDirectory:Sum of Photometric type-related color channels and ExtraSamples doesn't match SamplesPerPixel. Defining non-color channels as ExtraSamples.\n",
            " 54%|█████▍    | 7/13 [02:55<02:30, 25.01s/it]WARNING:rasterio._env:CPLE_AppDefined in /content/drive/MyDrive/PotsdamDataset/4_Ortho_RGBIR/top_potsdam_6_15_RGBIR.tif: TIFFReadDirectory:Sum of Photometric type-related color channels and ExtraSamples doesn't match SamplesPerPixel. Defining non-color channels as ExtraSamples.\n",
            "WARNING:rasterio._env:CPLE_AppDefined in /content/drive/MyDrive/PotsdamDataset/4_Ortho_RGBIR/top_potsdam_4_10_RGBIR.tif: TIFFReadDirectory:Sum of Photometric type-related color channels and ExtraSamples doesn't match SamplesPerPixel. Defining non-color channels as ExtraSamples.\n",
            " 62%|██████▏   | 8/13 [03:20<02:05, 25.09s/it]WARNING:rasterio._env:CPLE_AppDefined in /content/drive/MyDrive/PotsdamDataset/4_Ortho_RGBIR/top_potsdam_6_8_RGBIR.tif: TIFFReadDirectory:Sum of Photometric type-related color channels and ExtraSamples doesn't match SamplesPerPixel. Defining non-color channels as ExtraSamples.\n",
            "WARNING:rasterio._env:CPLE_AppDefined in /content/drive/MyDrive/PotsdamDataset/4_Ortho_RGBIR/top_potsdam_7_13_RGBIR.tif: TIFFReadDirectory:Sum of Photometric type-related color channels and ExtraSamples doesn't match SamplesPerPixel. Defining non-color channels as ExtraSamples.\n",
            " 69%|██████▉   | 9/13 [03:45<01:40, 25.21s/it]WARNING:rasterio._env:CPLE_AppDefined in /content/drive/MyDrive/PotsdamDataset/4_Ortho_RGBIR/top_potsdam_5_13_RGBIR.tif: TIFFReadDirectory:Sum of Photometric type-related color channels and ExtraSamples doesn't match SamplesPerPixel. Defining non-color channels as ExtraSamples.\n",
            "WARNING:rasterio._env:CPLE_AppDefined in /content/drive/MyDrive/PotsdamDataset/4_Ortho_RGBIR/top_potsdam_7_12_RGBIR.tif: TIFFReadDirectory:Sum of Photometric type-related color channels and ExtraSamples doesn't match SamplesPerPixel. Defining non-color channels as ExtraSamples.\n",
            " 77%|███████▋  | 10/13 [04:11<01:15, 25.22s/it]WARNING:rasterio._env:CPLE_AppDefined in /content/drive/MyDrive/PotsdamDataset/4_Ortho_RGBIR/top_potsdam_5_14_RGBIR.tif: TIFFReadDirectory:Sum of Photometric type-related color channels and ExtraSamples doesn't match SamplesPerPixel. Defining non-color channels as ExtraSamples.\n",
            "WARNING:rasterio._env:CPLE_AppDefined in /content/drive/MyDrive/PotsdamDataset/4_Ortho_RGBIR/top_potsdam_4_14_RGBIR.tif: TIFFReadDirectory:Sum of Photometric type-related color channels and ExtraSamples doesn't match SamplesPerPixel. Defining non-color channels as ExtraSamples.\n",
            " 85%|████████▍ | 11/13 [04:40<00:52, 26.34s/it]WARNING:rasterio._env:CPLE_AppDefined in /content/drive/MyDrive/PotsdamDataset/4_Ortho_RGBIR/top_potsdam_7_7_RGBIR.tif: TIFFReadDirectory:Sum of Photometric type-related color channels and ExtraSamples doesn't match SamplesPerPixel. Defining non-color channels as ExtraSamples.\n",
            "WARNING:rasterio._env:CPLE_AppDefined in /content/drive/MyDrive/PotsdamDataset/4_Ortho_RGBIR/top_potsdam_4_11_RGBIR.tif: TIFFReadDirectory:Sum of Photometric type-related color channels and ExtraSamples doesn't match SamplesPerPixel. Defining non-color channels as ExtraSamples.\n",
            " 92%|█████████▏| 12/13 [05:07<00:26, 26.70s/it]WARNING:rasterio._env:CPLE_AppDefined in /content/drive/MyDrive/PotsdamDataset/4_Ortho_RGBIR/top_potsdam_6_14_RGBIR.tif: TIFFReadDirectory:Sum of Photometric type-related color channels and ExtraSamples doesn't match SamplesPerPixel. Defining non-color channels as ExtraSamples.\n",
            "WARNING:rasterio._env:CPLE_AppDefined in /content/drive/MyDrive/PotsdamDataset/4_Ortho_RGBIR/top_potsdam_5_11_RGBIR.tif: TIFFReadDirectory:Sum of Photometric type-related color channels and ExtraSamples doesn't match SamplesPerPixel. Defining non-color channels as ExtraSamples.\n",
            "100%|██████████| 13/13 [05:32<00:00, 25.57s/it]\n"
          ]
        },
        {
          "output_type": "stream",
          "name": "stdout",
          "text": [
            "Epoch 4/5, Loss: 0.9454069504371057\n"
          ]
        },
        {
          "output_type": "stream",
          "name": "stderr",
          "text": [
            "\r  0%|          | 0/13 [00:00<?, ?it/s]WARNING:rasterio._env:CPLE_AppDefined in /content/drive/MyDrive/PotsdamDataset/4_Ortho_RGBIR/top_potsdam_5_12_RGBIR.tif: TIFFReadDirectory:Sum of Photometric type-related color channels and ExtraSamples doesn't match SamplesPerPixel. Defining non-color channels as ExtraSamples.\n",
            "WARNING:rasterio._env:CPLE_AppDefined in /content/drive/MyDrive/PotsdamDataset/4_Ortho_RGBIR/top_potsdam_4_10_RGBIR.tif: TIFFReadDirectory:Sum of Photometric type-related color channels and ExtraSamples doesn't match SamplesPerPixel. Defining non-color channels as ExtraSamples.\n",
            "  8%|▊         | 1/13 [00:25<05:08, 25.69s/it]WARNING:rasterio._env:CPLE_AppDefined in /content/drive/MyDrive/PotsdamDataset/4_Ortho_RGBIR/top_potsdam_6_8_RGBIR.tif: TIFFReadDirectory:Sum of Photometric type-related color channels and ExtraSamples doesn't match SamplesPerPixel. Defining non-color channels as ExtraSamples.\n",
            "WARNING:rasterio._env:CPLE_AppDefined in /content/drive/MyDrive/PotsdamDataset/4_Ortho_RGBIR/top_potsdam_5_15_RGBIR.tif: TIFFReadDirectory:Sum of Photometric type-related color channels and ExtraSamples doesn't match SamplesPerPixel. Defining non-color channels as ExtraSamples.\n",
            " 15%|█▌        | 2/13 [00:50<04:37, 25.25s/it]WARNING:rasterio._env:CPLE_AppDefined in /content/drive/MyDrive/PotsdamDataset/4_Ortho_RGBIR/top_potsdam_6_15_RGBIR.tif: TIFFReadDirectory:Sum of Photometric type-related color channels and ExtraSamples doesn't match SamplesPerPixel. Defining non-color channels as ExtraSamples.\n",
            "WARNING:rasterio._env:CPLE_AppDefined in /content/drive/MyDrive/PotsdamDataset/4_Ortho_RGBIR/top_potsdam_2_12_RGBIR.tif: TIFFReadDirectory:Sum of Photometric type-related color channels and ExtraSamples doesn't match SamplesPerPixel. Defining non-color channels as ExtraSamples.\n",
            " 23%|██▎       | 3/13 [01:14<04:06, 24.67s/it]WARNING:rasterio._env:CPLE_AppDefined in /content/drive/MyDrive/PotsdamDataset/4_Ortho_RGBIR/top_potsdam_4_12_RGBIR.tif: TIFFReadDirectory:Sum of Photometric type-related color channels and ExtraSamples doesn't match SamplesPerPixel. Defining non-color channels as ExtraSamples.\n",
            "WARNING:rasterio._env:CPLE_AppDefined in /content/drive/MyDrive/PotsdamDataset/4_Ortho_RGBIR/top_potsdam_6_10_RGBIR.tif: TIFFReadDirectory:Sum of Photometric type-related color channels and ExtraSamples doesn't match SamplesPerPixel. Defining non-color channels as ExtraSamples.\n",
            " 31%|███       | 4/13 [01:39<03:42, 24.76s/it]WARNING:rasterio._env:CPLE_AppDefined in /content/drive/MyDrive/PotsdamDataset/4_Ortho_RGBIR/top_potsdam_5_11_RGBIR.tif: TIFFReadDirectory:Sum of Photometric type-related color channels and ExtraSamples doesn't match SamplesPerPixel. Defining non-color channels as ExtraSamples.\n",
            "WARNING:rasterio._env:CPLE_AppDefined in /content/drive/MyDrive/PotsdamDataset/4_Ortho_RGBIR/top_potsdam_7_13_RGBIR.tif: TIFFReadDirectory:Sum of Photometric type-related color channels and ExtraSamples doesn't match SamplesPerPixel. Defining non-color channels as ExtraSamples.\n",
            " 38%|███▊      | 5/13 [02:04<03:18, 24.87s/it]WARNING:rasterio._env:CPLE_AppDefined in /content/drive/MyDrive/PotsdamDataset/4_Ortho_RGBIR/top_potsdam_6_11_RGBIR.tif: TIFFReadDirectory:Sum of Photometric type-related color channels and ExtraSamples doesn't match SamplesPerPixel. Defining non-color channels as ExtraSamples.\n",
            "WARNING:rasterio._env:CPLE_AppDefined in /content/drive/MyDrive/PotsdamDataset/4_Ortho_RGBIR/top_potsdam_3_12_RGBIR.tif: TIFFReadDirectory:Sum of Photometric type-related color channels and ExtraSamples doesn't match SamplesPerPixel. Defining non-color channels as ExtraSamples.\n",
            " 46%|████▌     | 6/13 [02:29<02:55, 25.05s/it]WARNING:rasterio._env:CPLE_AppDefined in /content/drive/MyDrive/PotsdamDataset/4_Ortho_RGBIR/top_potsdam_5_13_RGBIR.tif: TIFFReadDirectory:Sum of Photometric type-related color channels and ExtraSamples doesn't match SamplesPerPixel. Defining non-color channels as ExtraSamples.\n",
            "WARNING:rasterio._env:CPLE_AppDefined in /content/drive/MyDrive/PotsdamDataset/4_Ortho_RGBIR/top_potsdam_2_13_RGBIR.tif: TIFFReadDirectory:Sum of Photometric type-related color channels and ExtraSamples doesn't match SamplesPerPixel. Defining non-color channels as ExtraSamples.\n",
            " 54%|█████▍    | 7/13 [02:55<02:32, 25.36s/it]WARNING:rasterio._env:CPLE_AppDefined in /content/drive/MyDrive/PotsdamDataset/4_Ortho_RGBIR/top_potsdam_6_13_RGBIR.tif: TIFFReadDirectory:Sum of Photometric type-related color channels and ExtraSamples doesn't match SamplesPerPixel. Defining non-color channels as ExtraSamples.\n",
            "WARNING:rasterio._env:CPLE_AppDefined in /content/drive/MyDrive/PotsdamDataset/4_Ortho_RGBIR/top_potsdam_2_11_RGBIR.tif: TIFFReadDirectory:Sum of Photometric type-related color channels and ExtraSamples doesn't match SamplesPerPixel. Defining non-color channels as ExtraSamples.\n",
            " 62%|██████▏   | 8/13 [03:22<02:08, 25.63s/it]WARNING:rasterio._env:CPLE_AppDefined in /content/drive/MyDrive/PotsdamDataset/4_Ortho_RGBIR/top_potsdam_6_7_RGBIR.tif: TIFFReadDirectory:Sum of Photometric type-related color channels and ExtraSamples doesn't match SamplesPerPixel. Defining non-color channels as ExtraSamples.\n",
            "WARNING:rasterio._env:CPLE_AppDefined in /content/drive/MyDrive/PotsdamDataset/4_Ortho_RGBIR/top_potsdam_5_14_RGBIR.tif: TIFFReadDirectory:Sum of Photometric type-related color channels and ExtraSamples doesn't match SamplesPerPixel. Defining non-color channels as ExtraSamples.\n",
            " 69%|██████▉   | 9/13 [03:48<01:42, 25.71s/it]WARNING:rasterio._env:CPLE_AppDefined in /content/drive/MyDrive/PotsdamDataset/4_Ortho_RGBIR/top_potsdam_7_9_RGBIR.tif: TIFFReadDirectory:Sum of Photometric type-related color channels and ExtraSamples doesn't match SamplesPerPixel. Defining non-color channels as ExtraSamples.\n",
            "WARNING:rasterio._env:CPLE_AppDefined in /content/drive/MyDrive/PotsdamDataset/4_Ortho_RGBIR/top_potsdam_6_14_RGBIR.tif: TIFFReadDirectory:Sum of Photometric type-related color channels and ExtraSamples doesn't match SamplesPerPixel. Defining non-color channels as ExtraSamples.\n",
            " 77%|███████▋  | 10/13 [04:14<01:17, 25.80s/it]WARNING:rasterio._env:CPLE_AppDefined in /content/drive/MyDrive/PotsdamDataset/4_Ortho_RGBIR/top_potsdam_6_9_RGBIR.tif: TIFFReadDirectory:Sum of Photometric type-related color channels and ExtraSamples doesn't match SamplesPerPixel. Defining non-color channels as ExtraSamples.\n",
            "WARNING:rasterio._env:CPLE_AppDefined in /content/drive/MyDrive/PotsdamDataset/4_Ortho_RGBIR/top_potsdam_7_12_RGBIR.tif: TIFFReadDirectory:Sum of Photometric type-related color channels and ExtraSamples doesn't match SamplesPerPixel. Defining non-color channels as ExtraSamples.\n",
            " 85%|████████▍ | 11/13 [04:38<00:50, 25.24s/it]WARNING:rasterio._env:CPLE_AppDefined in /content/drive/MyDrive/PotsdamDataset/4_Ortho_RGBIR/top_potsdam_3_14_RGBIR.tif: TIFFReadDirectory:Sum of Photometric type-related color channels and ExtraSamples doesn't match SamplesPerPixel. Defining non-color channels as ExtraSamples.\n",
            "WARNING:rasterio._env:CPLE_AppDefined in /content/drive/MyDrive/PotsdamDataset/4_Ortho_RGBIR/top_potsdam_7_7_RGBIR.tif: TIFFReadDirectory:Sum of Photometric type-related color channels and ExtraSamples doesn't match SamplesPerPixel. Defining non-color channels as ExtraSamples.\n",
            " 92%|█████████▏| 12/13 [05:02<00:25, 25.12s/it]WARNING:rasterio._env:CPLE_AppDefined in /content/drive/MyDrive/PotsdamDataset/4_Ortho_RGBIR/top_potsdam_4_11_RGBIR.tif: TIFFReadDirectory:Sum of Photometric type-related color channels and ExtraSamples doesn't match SamplesPerPixel. Defining non-color channels as ExtraSamples.\n",
            "WARNING:rasterio._env:CPLE_AppDefined in /content/drive/MyDrive/PotsdamDataset/4_Ortho_RGBIR/top_potsdam_4_14_RGBIR.tif: TIFFReadDirectory:Sum of Photometric type-related color channels and ExtraSamples doesn't match SamplesPerPixel. Defining non-color channels as ExtraSamples.\n",
            "100%|██████████| 13/13 [05:28<00:00, 25.27s/it]"
          ]
        },
        {
          "output_type": "stream",
          "name": "stdout",
          "text": [
            "Epoch 5/5, Loss: 0.9460139641394982\n"
          ]
        },
        {
          "output_type": "stream",
          "name": "stderr",
          "text": [
            "\n"
          ]
        }
      ]
    },
    {
      "cell_type": "code",
      "source": [
        "model.eval()\n",
        "# Lista per memorizzare le predizioni\n",
        "all_predictions = []\n",
        "\n",
        "# Ciclo attraverso i dati di test\n",
        "with torch.no_grad():\n",
        "    for inputs, _, _ in tqdm(test_loader):\n",
        "        inputs = inputs.to(DEVICE)\n",
        "        inputs_resized = torch.stack([resize_transform(img) for img in inputs])\n",
        "        outputs = model(inputs_resized)\n",
        "\n",
        "        # Aggiungi le predizioni alla lista\n",
        "        all_predictions.append(outputs.cpu().numpy())\n",
        "\n",
        "# Concatena le predizioni lungo l'asse del batch\n",
        "all_predictions = np.concatenate(all_predictions, axis=0)"
      ],
      "metadata": {
        "colab": {
          "base_uri": "https://localhost:8080/"
        },
        "id": "L0eXBiY2_JDE",
        "outputId": "06ec892e-1c3f-49e5-d154-024e9e7d7d7e"
      },
      "execution_count": 65,
      "outputs": [
        {
          "output_type": "stream",
          "name": "stderr",
          "text": [
            "\r  0%|          | 0/4 [00:00<?, ?it/s]WARNING:rasterio._env:CPLE_AppDefined in /content/drive/MyDrive/PotsdamDataset/4_Ortho_RGBIR/top_potsdam_6_12_RGBIR.tif: TIFFReadDirectory:Sum of Photometric type-related color channels and ExtraSamples doesn't match SamplesPerPixel. Defining non-color channels as ExtraSamples.\n",
            "WARNING:rasterio._env:CPLE_AppDefined in /content/drive/MyDrive/PotsdamDataset/4_Ortho_RGBIR/top_potsdam_5_10_RGBIR.tif: TIFFReadDirectory:Sum of Photometric type-related color channels and ExtraSamples doesn't match SamplesPerPixel. Defining non-color channels as ExtraSamples.\n",
            " 25%|██▌       | 1/4 [00:15<00:46, 15.53s/it]WARNING:rasterio._env:CPLE_AppDefined in /content/drive/MyDrive/PotsdamDataset/4_Ortho_RGBIR/top_potsdam_3_10_RGBIR.tif: TIFFReadDirectory:Sum of Photometric type-related color channels and ExtraSamples doesn't match SamplesPerPixel. Defining non-color channels as ExtraSamples.\n",
            "WARNING:rasterio._env:CPLE_AppDefined in /content/drive/MyDrive/PotsdamDataset/4_Ortho_RGBIR/top_potsdam_7_8_RGBIR.tif: TIFFReadDirectory:Sum of Photometric type-related color channels and ExtraSamples doesn't match SamplesPerPixel. Defining non-color channels as ExtraSamples.\n",
            " 50%|█████     | 2/4 [00:30<00:30, 15.35s/it]WARNING:rasterio._env:CPLE_AppDefined in /content/drive/MyDrive/PotsdamDataset/4_Ortho_RGBIR/top_potsdam_7_10_RGBIR.tif: TIFFReadDirectory:Sum of Photometric type-related color channels and ExtraSamples doesn't match SamplesPerPixel. Defining non-color channels as ExtraSamples.\n",
            "WARNING:rasterio._env:CPLE_AppDefined in /content/drive/MyDrive/PotsdamDataset/4_Ortho_RGBIR/top_potsdam_3_11_RGBIR.tif: TIFFReadDirectory:Sum of Photometric type-related color channels and ExtraSamples doesn't match SamplesPerPixel. Defining non-color channels as ExtraSamples.\n",
            " 75%|███████▌  | 3/4 [00:45<00:15, 15.13s/it]WARNING:rasterio._env:CPLE_AppDefined in /content/drive/MyDrive/PotsdamDataset/4_Ortho_RGBIR/top_potsdam_3_13_RGBIR.tif: TIFFReadDirectory:Sum of Photometric type-related color channels and ExtraSamples doesn't match SamplesPerPixel. Defining non-color channels as ExtraSamples.\n",
            "100%|██████████| 4/4 [00:53<00:00, 13.50s/it]\n"
          ]
        }
      ]
    },
    {
      "cell_type": "code",
      "source": [
        "np.argmax(all_predictions, axis=1).reshape(-1)\n"
      ],
      "metadata": {
        "colab": {
          "base_uri": "https://localhost:8080/"
        },
        "id": "7IWSHFT9_hB0",
        "outputId": "80564f35-f061-4b48-c7ab-7c3834e6e297"
      },
      "execution_count": 41,
      "outputs": [
        {
          "output_type": "execute_result",
          "data": {
            "text/plain": [
              "array([3, 3, 3, ..., 3, 3, 3])"
            ]
          },
          "metadata": {},
          "execution_count": 41
        }
      ]
    },
    {
      "cell_type": "code",
      "source": [
        "from sklearn.metrics import accuracy_score\n",
        "\n",
        "all_labels_resized = []\n",
        "\n",
        "# Ciclo attraverso i dati di test\n",
        "with torch.no_grad():\n",
        "    for _, labels, _ in tqdm(test_loader):\n",
        "        labels_resized = torch.stack([resize_transform(lbl.unsqueeze(0)).squeeze(0) for lbl in labels])\n",
        "        all_labels_resized.append(labels_resized.numpy().flatten())\n",
        "\n",
        "# Concatena le etichette ridotte lungo l'asse del batch\n",
        "flat_labels_resized = np.concatenate(all_labels_resized)\n",
        "\n",
        "# Converte le predizioni in classi (argmax lungo l'asse delle classi)\n",
        "predicted_classes = np.argmax(all_predictions, axis=1)\n",
        "\n",
        "# Flatten delle predizioni e delle etichette reali\n",
        "flat_predictions = predicted_classes.reshape(-1)\n",
        "\n",
        "# Calcolo dell'accuratezza\n",
        "accuracy = accuracy_score(flat_labels_resized, flat_predictions)\n",
        "print(f'\\nAccuracy: {accuracy}')\n",
        "\n"
      ],
      "metadata": {
        "colab": {
          "base_uri": "https://localhost:8080/"
        },
        "id": "LkqnNNg3FtRr",
        "outputId": "1899e162-f73d-4ba2-c9ca-20d6f5610397"
      },
      "execution_count": 66,
      "outputs": [
        {
          "output_type": "stream",
          "name": "stderr",
          "text": [
            "\r  0%|          | 0/4 [00:00<?, ?it/s]WARNING:rasterio._env:CPLE_AppDefined in /content/drive/MyDrive/PotsdamDataset/4_Ortho_RGBIR/top_potsdam_6_12_RGBIR.tif: TIFFReadDirectory:Sum of Photometric type-related color channels and ExtraSamples doesn't match SamplesPerPixel. Defining non-color channels as ExtraSamples.\n",
            "WARNING:rasterio._env:CPLE_AppDefined in /content/drive/MyDrive/PotsdamDataset/4_Ortho_RGBIR/top_potsdam_5_10_RGBIR.tif: TIFFReadDirectory:Sum of Photometric type-related color channels and ExtraSamples doesn't match SamplesPerPixel. Defining non-color channels as ExtraSamples.\n",
            " 25%|██▌       | 1/4 [00:11<00:35, 11.80s/it]WARNING:rasterio._env:CPLE_AppDefined in /content/drive/MyDrive/PotsdamDataset/4_Ortho_RGBIR/top_potsdam_3_10_RGBIR.tif: TIFFReadDirectory:Sum of Photometric type-related color channels and ExtraSamples doesn't match SamplesPerPixel. Defining non-color channels as ExtraSamples.\n",
            "WARNING:rasterio._env:CPLE_AppDefined in /content/drive/MyDrive/PotsdamDataset/4_Ortho_RGBIR/top_potsdam_7_8_RGBIR.tif: TIFFReadDirectory:Sum of Photometric type-related color channels and ExtraSamples doesn't match SamplesPerPixel. Defining non-color channels as ExtraSamples.\n",
            " 50%|█████     | 2/4 [00:24<00:25, 12.58s/it]WARNING:rasterio._env:CPLE_AppDefined in /content/drive/MyDrive/PotsdamDataset/4_Ortho_RGBIR/top_potsdam_7_10_RGBIR.tif: TIFFReadDirectory:Sum of Photometric type-related color channels and ExtraSamples doesn't match SamplesPerPixel. Defining non-color channels as ExtraSamples.\n",
            "WARNING:rasterio._env:CPLE_AppDefined in /content/drive/MyDrive/PotsdamDataset/4_Ortho_RGBIR/top_potsdam_3_11_RGBIR.tif: TIFFReadDirectory:Sum of Photometric type-related color channels and ExtraSamples doesn't match SamplesPerPixel. Defining non-color channels as ExtraSamples.\n",
            " 75%|███████▌  | 3/4 [00:36<00:12, 12.13s/it]WARNING:rasterio._env:CPLE_AppDefined in /content/drive/MyDrive/PotsdamDataset/4_Ortho_RGBIR/top_potsdam_3_13_RGBIR.tif: TIFFReadDirectory:Sum of Photometric type-related color channels and ExtraSamples doesn't match SamplesPerPixel. Defining non-color channels as ExtraSamples.\n",
            "100%|██████████| 4/4 [00:43<00:00, 10.92s/it]"
          ]
        },
        {
          "output_type": "stream",
          "name": "stdout",
          "text": [
            "\n",
            "Accuracy: 0.6360495431082589\n"
          ]
        },
        {
          "output_type": "stream",
          "name": "stderr",
          "text": [
            "\n"
          ]
        }
      ]
    },
    {
      "cell_type": "code",
      "source": [
        "all_labels_resized[0][:10]"
      ],
      "metadata": {
        "colab": {
          "base_uri": "https://localhost:8080/"
        },
        "id": "O5K_l8N_HLjm",
        "outputId": "8d76ebed-fe5a-4d82-8038-0fadea70f7cd"
      },
      "execution_count": 53,
      "outputs": [
        {
          "output_type": "execute_result",
          "data": {
            "text/plain": [
              "array([2, 2, 2, 2, 2, 2, 2, 2, 2, 2])"
            ]
          },
          "metadata": {},
          "execution_count": 53
        }
      ]
    },
    {
      "cell_type": "code",
      "source": [
        "predicted_classes[0]"
      ],
      "metadata": {
        "colab": {
          "base_uri": "https://localhost:8080/"
        },
        "id": "FACT2sICHoGA",
        "outputId": "447599bd-dfd7-4231-c37a-b27af5409c93"
      },
      "execution_count": 57,
      "outputs": [
        {
          "output_type": "execute_result",
          "data": {
            "text/plain": [
              "array([[3, 3, 3, ..., 3, 3, 3],\n",
              "       [3, 3, 3, ..., 3, 3, 3],\n",
              "       [3, 2, 2, ..., 3, 3, 3],\n",
              "       ...,\n",
              "       [3, 3, 3, ..., 3, 3, 3],\n",
              "       [3, 3, 3, ..., 3, 3, 3],\n",
              "       [3, 3, 3, ..., 3, 3, 3]])"
            ]
          },
          "metadata": {},
          "execution_count": 57
        }
      ]
    },
    {
      "cell_type": "code",
      "source": [
        "def main():\n",
        "  train_transform = albumentations.Compose([\n",
        "      albumentations.Normalize(mean=total_mean, std=total_std, max_pixel_value=255.0),\n",
        "      albumentations.ToTensorV2()\n",
        "  ])\n",
        "  val_transform = albumentations.Compose([\n",
        "      albumentations.Normalize(mean=total_mean, std=total_std, max_pixel_value=255.0),\n",
        "      albumentations.ToTensorV2()\n",
        "  ])\n",
        "  test_transform = albumentations.Compose([\n",
        "      albumentations.Normalize(mean=total_mean, std=total_std, max_pixel_value=255.0),\n",
        "      albumentations.ToTensorV2()\n",
        "  ])\n",
        "  model = UNet(in_channels=4, out_channels=6).to(DEVICE)\n",
        "  loss_function = nn.CrossEntropyLoss()"
      ],
      "metadata": {
        "id": "sIIPTSCSqv55"
      },
      "execution_count": null,
      "outputs": []
    },
    {
      "cell_type": "code",
      "source": [
        "if __name__ == \"__main__\":\n",
        "  main()"
      ],
      "metadata": {
        "colab": {
          "base_uri": "https://localhost:8080/",
          "height": 310
        },
        "id": "tnPplxZRs3Pk",
        "outputId": "599dc902-a29d-49fa-864b-78cf93cf80c3"
      },
      "execution_count": null,
      "outputs": [
        {
          "output_type": "error",
          "ename": "AttributeError",
          "evalue": "module 'albumentations' has no attribute 'ToTensorV2'",
          "traceback": [
            "\u001b[0;31m---------------------------------------------------------------------------\u001b[0m",
            "\u001b[0;31mAttributeError\u001b[0m                            Traceback (most recent call last)",
            "\u001b[0;32m<ipython-input-15-20a4c88e53ea>\u001b[0m in \u001b[0;36m<cell line: 1>\u001b[0;34m()\u001b[0m\n\u001b[1;32m      1\u001b[0m \u001b[0;32mif\u001b[0m \u001b[0m__name__\u001b[0m \u001b[0;34m==\u001b[0m \u001b[0;34m\"__main__\"\u001b[0m\u001b[0;34m:\u001b[0m\u001b[0;34m\u001b[0m\u001b[0;34m\u001b[0m\u001b[0m\n\u001b[0;32m----> 2\u001b[0;31m   \u001b[0mmain\u001b[0m\u001b[0;34m(\u001b[0m\u001b[0;34m)\u001b[0m\u001b[0;34m\u001b[0m\u001b[0;34m\u001b[0m\u001b[0m\n\u001b[0m",
            "\u001b[0;32m<ipython-input-14-9689449d7520>\u001b[0m in \u001b[0;36mmain\u001b[0;34m()\u001b[0m\n\u001b[1;32m      2\u001b[0m   train_transform = albumentations.Compose([\n\u001b[1;32m      3\u001b[0m       \u001b[0malbumentations\u001b[0m\u001b[0;34m.\u001b[0m\u001b[0mNormalize\u001b[0m\u001b[0;34m(\u001b[0m\u001b[0mmean\u001b[0m\u001b[0;34m=\u001b[0m\u001b[0mtotal_mean\u001b[0m\u001b[0;34m,\u001b[0m \u001b[0mstd\u001b[0m\u001b[0;34m=\u001b[0m\u001b[0mtotal_std\u001b[0m\u001b[0;34m,\u001b[0m \u001b[0mmax_pixel_value\u001b[0m\u001b[0;34m=\u001b[0m\u001b[0;36m255.0\u001b[0m\u001b[0;34m)\u001b[0m\u001b[0;34m,\u001b[0m\u001b[0;34m\u001b[0m\u001b[0;34m\u001b[0m\u001b[0m\n\u001b[0;32m----> 4\u001b[0;31m       \u001b[0malbumentations\u001b[0m\u001b[0;34m.\u001b[0m\u001b[0mToTensorV2\u001b[0m\u001b[0;34m(\u001b[0m\u001b[0;34m)\u001b[0m\u001b[0;34m\u001b[0m\u001b[0;34m\u001b[0m\u001b[0m\n\u001b[0m\u001b[1;32m      5\u001b[0m   ])\n\u001b[1;32m      6\u001b[0m   val_transform = albumentations.Compose([\n",
            "\u001b[0;31mAttributeError\u001b[0m: module 'albumentations' has no attribute 'ToTensorV2'"
          ]
        }
      ]
    }
  ],
  "metadata": {
    "colab": {
      "provenance": [],
      "authorship_tag": "ABX9TyOfXVeoSXVvlkqdHs/XYw+G",
      "include_colab_link": true
    },
    "kernelspec": {
      "display_name": "Python 3",
      "name": "python3"
    },
    "language_info": {
      "name": "python"
    }
  },
  "nbformat": 4,
  "nbformat_minor": 0
}